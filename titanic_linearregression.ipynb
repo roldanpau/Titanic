{
  "nbformat": 4,
  "nbformat_minor": 0,
  "metadata": {
    "kernelspec": {
      "display_name": "Python 3",
      "language": "python",
      "name": "python3"
    },
    "language_info": {
      "codemirror_mode": {
        "name": "ipython",
        "version": 3
      },
      "file_extension": ".py",
      "mimetype": "text/x-python",
      "name": "python",
      "nbconvert_exporter": "python",
      "pygments_lexer": "ipython3",
      "version": "3.8.2"
    },
    "colab": {
      "name": "titanic_linearregression.ipynb",
      "provenance": [],
      "collapsed_sections": []
    }
  },
  "cells": [
    {
      "cell_type": "markdown",
      "metadata": {
        "id": "view-in-github"
      },
      "source": [
        "<a href=\"https://colab.research.google.com/github/roldanpau/Titanic/blob/main/titanic.ipynb\" target=\"_parent\"><img src=\"https://colab.research.google.com/assets/colab-badge.svg\" alt=\"Open In Colab\"/></a>"
      ]
    },
    {
      "cell_type": "markdown",
      "metadata": {
        "id": "3esTiQfS6AP_"
      },
      "source": [
        "Tensor flow development"
      ]
    },
    {
      "cell_type": "code",
      "metadata": {
        "id": "R6GJKvqH6AQO"
      },
      "source": [
        "# mlp for binary classification\n",
        "import pandas as pd\n",
        "import numpy as np\n",
        "from pandas import read_csv\n",
        "from sklearn.model_selection import train_test_split\n",
        "from sklearn.preprocessing import LabelEncoder\n",
        "from sklearn import linear_model\n",
        "from sklearn.metrics import mean_squared_error, r2_score, accuracy_score\n",
        "from sklearn.preprocessing import MinMaxScaler, StandardScaler\n",
        "from matplotlib import pyplot\n",
        "import matplotlib.pyplot as plt\n",
        "\n",
        "from sklearn.linear_model import LinearRegression\n",
        "\n",
        "pd.set_option('display.max_columns', None) # Display all columns of dataframes"
      ],
      "execution_count": 21,
      "outputs": []
    },
    {
      "cell_type": "code",
      "metadata": {
        "id": "m5y71okKNRpl"
      },
      "source": [
        "# PARAMETERS\n",
        "val_size = 100    # size of validation set"
      ],
      "execution_count": 22,
      "outputs": []
    },
    {
      "cell_type": "code",
      "metadata": {
        "colab": {
          "base_uri": "https://localhost:8080/",
          "height": 206
        },
        "id": "5ufX4Mjf2Qt4",
        "outputId": "e5238a8a-7453-4aee-fe5f-38f7d7b567f5"
      },
      "source": [
        "# Download dataset\r\n",
        "TITANIC_TRAIN = \"https://raw.githubusercontent.com/borjagomez/TF-Titanic/master/data/train.csv\"\r\n",
        "TITANIC_TEST = \"https://raw.githubusercontent.com/borjagomez/TF-Titanic/master/data/test.csv\"\r\n",
        "\r\n",
        "train_data = pd.read_csv(TITANIC_TRAIN)\r\n",
        "test_data = pd.read_csv(TITANIC_TEST)\r\n",
        "\r\n",
        "train_data.head()"
      ],
      "execution_count": 23,
      "outputs": [
        {
          "output_type": "execute_result",
          "data": {
            "text/html": [
              "<div>\n",
              "<style scoped>\n",
              "    .dataframe tbody tr th:only-of-type {\n",
              "        vertical-align: middle;\n",
              "    }\n",
              "\n",
              "    .dataframe tbody tr th {\n",
              "        vertical-align: top;\n",
              "    }\n",
              "\n",
              "    .dataframe thead th {\n",
              "        text-align: right;\n",
              "    }\n",
              "</style>\n",
              "<table border=\"1\" class=\"dataframe\">\n",
              "  <thead>\n",
              "    <tr style=\"text-align: right;\">\n",
              "      <th></th>\n",
              "      <th>PassengerId</th>\n",
              "      <th>Survived</th>\n",
              "      <th>Pclass</th>\n",
              "      <th>Name</th>\n",
              "      <th>Sex</th>\n",
              "      <th>Age</th>\n",
              "      <th>SibSp</th>\n",
              "      <th>Parch</th>\n",
              "      <th>Ticket</th>\n",
              "      <th>Fare</th>\n",
              "      <th>Cabin</th>\n",
              "      <th>Embarked</th>\n",
              "    </tr>\n",
              "  </thead>\n",
              "  <tbody>\n",
              "    <tr>\n",
              "      <th>0</th>\n",
              "      <td>1</td>\n",
              "      <td>0</td>\n",
              "      <td>3</td>\n",
              "      <td>Braund, Mr. Owen Harris</td>\n",
              "      <td>male</td>\n",
              "      <td>22.0</td>\n",
              "      <td>1</td>\n",
              "      <td>0</td>\n",
              "      <td>A/5 21171</td>\n",
              "      <td>7.2500</td>\n",
              "      <td>NaN</td>\n",
              "      <td>S</td>\n",
              "    </tr>\n",
              "    <tr>\n",
              "      <th>1</th>\n",
              "      <td>2</td>\n",
              "      <td>1</td>\n",
              "      <td>1</td>\n",
              "      <td>Cumings, Mrs. John Bradley (Florence Briggs Th...</td>\n",
              "      <td>female</td>\n",
              "      <td>38.0</td>\n",
              "      <td>1</td>\n",
              "      <td>0</td>\n",
              "      <td>PC 17599</td>\n",
              "      <td>71.2833</td>\n",
              "      <td>C85</td>\n",
              "      <td>C</td>\n",
              "    </tr>\n",
              "    <tr>\n",
              "      <th>2</th>\n",
              "      <td>3</td>\n",
              "      <td>1</td>\n",
              "      <td>3</td>\n",
              "      <td>Heikkinen, Miss. Laina</td>\n",
              "      <td>female</td>\n",
              "      <td>26.0</td>\n",
              "      <td>0</td>\n",
              "      <td>0</td>\n",
              "      <td>STON/O2. 3101282</td>\n",
              "      <td>7.9250</td>\n",
              "      <td>NaN</td>\n",
              "      <td>S</td>\n",
              "    </tr>\n",
              "    <tr>\n",
              "      <th>3</th>\n",
              "      <td>4</td>\n",
              "      <td>1</td>\n",
              "      <td>1</td>\n",
              "      <td>Futrelle, Mrs. Jacques Heath (Lily May Peel)</td>\n",
              "      <td>female</td>\n",
              "      <td>35.0</td>\n",
              "      <td>1</td>\n",
              "      <td>0</td>\n",
              "      <td>113803</td>\n",
              "      <td>53.1000</td>\n",
              "      <td>C123</td>\n",
              "      <td>S</td>\n",
              "    </tr>\n",
              "    <tr>\n",
              "      <th>4</th>\n",
              "      <td>5</td>\n",
              "      <td>0</td>\n",
              "      <td>3</td>\n",
              "      <td>Allen, Mr. William Henry</td>\n",
              "      <td>male</td>\n",
              "      <td>35.0</td>\n",
              "      <td>0</td>\n",
              "      <td>0</td>\n",
              "      <td>373450</td>\n",
              "      <td>8.0500</td>\n",
              "      <td>NaN</td>\n",
              "      <td>S</td>\n",
              "    </tr>\n",
              "  </tbody>\n",
              "</table>\n",
              "</div>"
            ],
            "text/plain": [
              "   PassengerId  Survived  Pclass  \\\n",
              "0            1         0       3   \n",
              "1            2         1       1   \n",
              "2            3         1       3   \n",
              "3            4         1       1   \n",
              "4            5         0       3   \n",
              "\n",
              "                                                Name     Sex   Age  SibSp  \\\n",
              "0                            Braund, Mr. Owen Harris    male  22.0      1   \n",
              "1  Cumings, Mrs. John Bradley (Florence Briggs Th...  female  38.0      1   \n",
              "2                             Heikkinen, Miss. Laina  female  26.0      0   \n",
              "3       Futrelle, Mrs. Jacques Heath (Lily May Peel)  female  35.0      1   \n",
              "4                           Allen, Mr. William Henry    male  35.0      0   \n",
              "\n",
              "   Parch            Ticket     Fare Cabin Embarked  \n",
              "0      0         A/5 21171   7.2500   NaN        S  \n",
              "1      0          PC 17599  71.2833   C85        C  \n",
              "2      0  STON/O2. 3101282   7.9250   NaN        S  \n",
              "3      0            113803  53.1000  C123        S  \n",
              "4      0            373450   8.0500   NaN        S  "
            ]
          },
          "metadata": {
            "tags": []
          },
          "execution_count": 23
        }
      ]
    },
    {
      "cell_type": "code",
      "metadata": {
        "colab": {
          "base_uri": "https://localhost:8080/"
        },
        "id": "-9_c2M783R2t",
        "outputId": "86464617-4bcb-450d-c2bc-655215afccfd"
      },
      "source": [
        "y = train_data[\"Survived\"]\r\n",
        "\r\n",
        "# Use only these features, converting categorical variables (such as \"Sex\" and \r\n",
        "# \"Embarked\") into indicator (or \"dummy\") variables\r\n",
        "features = [\"Pclass\", \"Sex\", \"Age\", \"SibSp\", \"Parch\", \"Fare\", \"Embarked\"]\r\n",
        "X = pd.get_dummies(train_data[features])\r\n",
        "X_test = pd.get_dummies(test_data[features])\r\n",
        "\r\n",
        "# To scale X and X_test homogeneously, we concat them in a single dataframe, X2.\r\n",
        "X2 = pd.concat([X, X_test])\r\n",
        "\r\n",
        "# Show which columns have unknown values\r\n",
        "print(X2.isna().sum())\r\n",
        "\r\n",
        "# We have NaN values in Age and Fare. \r\n",
        "# Substitute missing \"Fare\" values by the average.\r\n",
        "X2[\"Fare\"] = X2.Fare.fillna(X2.Fare.mean())"
      ],
      "execution_count": 24,
      "outputs": [
        {
          "output_type": "stream",
          "text": [
            "Pclass          0\n",
            "Age           263\n",
            "SibSp           0\n",
            "Parch           0\n",
            "Fare            1\n",
            "Sex_female      0\n",
            "Sex_male        0\n",
            "Embarked_C      0\n",
            "Embarked_Q      0\n",
            "Embarked_S      0\n",
            "dtype: int64\n"
          ],
          "name": "stdout"
        }
      ]
    },
    {
      "cell_type": "code",
      "metadata": {
        "colab": {
          "base_uri": "https://localhost:8080/"
        },
        "id": "6vVJkKm-Z213",
        "outputId": "972a27cf-ad79-4b4a-d0d8-4b5bd030b244"
      },
      "source": [
        "# Predict missing \"Age\" values\n",
        "cols = [\"Pclass\", \"SibSp\", \"Parch\", \"Age\"]\n",
        "df = X2[cols]\n",
        "\n",
        "age_test_data = df[df[\"Age\"].isnull()]\n",
        "age_data = df.dropna(inplace=False)\n",
        "\n",
        "age_y_train = age_data[\"Age\"]\n",
        "age_X_train = age_data.drop(\"Age\", axis=1)\n",
        "age_y_test = age_test_data[\"Age\"]\n",
        "age_X_test = age_test_data.drop(\"Age\", axis=1)\n",
        "\n",
        "age_model = LinearRegression()\n",
        "age_model.fit(age_X_train, age_y_train)\n",
        "\n",
        "age_y_pred = age_model.predict(age_X_test)\n",
        "\n",
        "#replace the missing values with predicted values\n",
        "X2.loc[X2.Age.isnull(), 'Age'] = age_y_pred\n",
        "\n",
        "print(X2.isna().sum())"
      ],
      "execution_count": 25,
      "outputs": [
        {
          "output_type": "stream",
          "text": [
            "Pclass        0\n",
            "Age           0\n",
            "SibSp         0\n",
            "Parch         0\n",
            "Fare          0\n",
            "Sex_female    0\n",
            "Sex_male      0\n",
            "Embarked_C    0\n",
            "Embarked_Q    0\n",
            "Embarked_S    0\n",
            "dtype: int64\n"
          ],
          "name": "stdout"
        }
      ]
    },
    {
      "cell_type": "code",
      "metadata": {
        "colab": {
          "base_uri": "https://localhost:8080/"
        },
        "id": "kpv0XHY7aDwx",
        "outputId": "18de83f8-cade-4cea-977e-fa2c0c2039a4"
      },
      "source": [
        "scaler = MinMaxScaler()\n",
        "X2 = pd.DataFrame(scaler.fit_transform(X2), columns=X2.columns)\n",
        "#print(X2.head())\n",
        "\n",
        "print(X.shape[0])\n",
        "\n",
        "X = X2.iloc[:X.shape[0], :]\n",
        "X_test = X2.iloc[X.shape[0]:, :]\n",
        "#print(X.head())\n",
        "#print(X.tail())\n",
        "#print(X_test.head())\n",
        "#print(X_test.tail())"
      ],
      "execution_count": 26,
      "outputs": [
        {
          "output_type": "stream",
          "text": [
            "891\n"
          ],
          "name": "stdout"
        }
      ]
    },
    {
      "cell_type": "code",
      "metadata": {
        "colab": {
          "base_uri": "https://localhost:8080/"
        },
        "id": "aKsDtktv6AQS",
        "outputId": "43905d8d-8c70-4fb0-b6dc-4d2917d73874"
      },
      "source": [
        "print(X)\n",
        "print(X_test)\n",
        "print(y)"
      ],
      "execution_count": 27,
      "outputs": [
        {
          "output_type": "stream",
          "text": [
            "     Pclass       Age  SibSp     Parch      Fare  Sex_female  Sex_male  \\\n",
            "0       1.0  0.283600  0.125  0.000000  0.014151         0.0       1.0   \n",
            "1       0.0  0.481228  0.125  0.000000  0.139136         1.0       0.0   \n",
            "2       1.0  0.333007  0.000  0.000000  0.015469         1.0       0.0   \n",
            "3       0.0  0.444173  0.125  0.000000  0.103644         1.0       0.0   \n",
            "4       1.0  0.444173  0.000  0.000000  0.015713         0.0       1.0   \n",
            "..      ...       ...    ...       ...       ...         ...       ...   \n",
            "886     0.5  0.345359  0.000  0.000000  0.025374         0.0       1.0   \n",
            "887     0.0  0.246545  0.000  0.000000  0.058556         1.0       0.0   \n",
            "888     1.0  0.271691  0.125  0.222222  0.045771         1.0       0.0   \n",
            "889     0.0  0.333007  0.000  0.000000  0.058556         0.0       1.0   \n",
            "890     1.0  0.407117  0.000  0.000000  0.015127         0.0       1.0   \n",
            "\n",
            "     Embarked_C  Embarked_Q  Embarked_S  \n",
            "0           0.0         0.0         1.0  \n",
            "1           1.0         0.0         0.0  \n",
            "2           0.0         0.0         1.0  \n",
            "3           0.0         0.0         1.0  \n",
            "4           0.0         0.0         1.0  \n",
            "..          ...         ...         ...  \n",
            "886         0.0         0.0         1.0  \n",
            "887         0.0         0.0         1.0  \n",
            "888         0.0         0.0         1.0  \n",
            "889         1.0         0.0         0.0  \n",
            "890         0.0         1.0         0.0  \n",
            "\n",
            "[891 rows x 10 columns]\n",
            "      Pclass       Age  SibSp     Parch      Fare  Sex_female  Sex_male  \\\n",
            "891      1.0  0.437997  0.000  0.000000  0.015282         0.0       1.0   \n",
            "892      1.0  0.592393  0.125  0.000000  0.013663         1.0       0.0   \n",
            "893      0.5  0.777669  0.000  0.000000  0.018909         0.0       1.0   \n",
            "894      1.0  0.345359  0.000  0.000000  0.016908         0.0       1.0   \n",
            "895      1.0  0.283600  0.125  0.111111  0.023984         1.0       0.0   \n",
            "...      ...       ...    ...       ...       ...         ...       ...   \n",
            "1304     1.0  0.340018  0.000  0.000000  0.015713         0.0       1.0   \n",
            "1305     0.0  0.493579  0.000  0.000000  0.212559         1.0       0.0   \n",
            "1306     1.0  0.487404  0.000  0.000000  0.014151         0.0       1.0   \n",
            "1307     1.0  0.340018  0.000  0.000000  0.015713         0.0       1.0   \n",
            "1308     1.0  0.286448  0.125  0.111111  0.043640         0.0       1.0   \n",
            "\n",
            "      Embarked_C  Embarked_Q  Embarked_S  \n",
            "891          0.0         1.0         0.0  \n",
            "892          0.0         0.0         1.0  \n",
            "893          0.0         1.0         0.0  \n",
            "894          0.0         0.0         1.0  \n",
            "895          0.0         0.0         1.0  \n",
            "...          ...         ...         ...  \n",
            "1304         0.0         0.0         1.0  \n",
            "1305         1.0         0.0         0.0  \n",
            "1306         0.0         0.0         1.0  \n",
            "1307         0.0         0.0         1.0  \n",
            "1308         1.0         0.0         0.0  \n",
            "\n",
            "[418 rows x 10 columns]\n",
            "0      0\n",
            "1      1\n",
            "2      1\n",
            "3      1\n",
            "4      0\n",
            "      ..\n",
            "886    0\n",
            "887    1\n",
            "888    0\n",
            "889    1\n",
            "890    0\n",
            "Name: Survived, Length: 891, dtype: int64\n"
          ],
          "name": "stdout"
        }
      ]
    },
    {
      "cell_type": "markdown",
      "metadata": {
        "id": "Pt0IUARR_d_K"
      },
      "source": [
        "To evaluate how well the trained model performs on unseen data, we further split the dataset into separate training and test datasets."
      ]
    },
    {
      "cell_type": "code",
      "metadata": {
        "colab": {
          "base_uri": "https://localhost:8080/"
        },
        "id": "5ojNb50a_0Kt",
        "outputId": "6608f30a-47c7-4bec-fbb5-5c85195dff92"
      },
      "source": [
        "from sklearn.model_selection import train_test_split\n",
        "X_train, X_val, y_train, y_val = train_test_split(X, y, \n",
        "                                                  test_size=0.125, \n",
        "                                                  random_state=1, \n",
        "                                                  stratify=y)\n",
        "# Reserve val_size samples for validation\n",
        "# X_val = X[-val_size:]\n",
        "# y_val = y[-val_size:]\n",
        "# X_train = X[:-val_size]\n",
        "# y_train = y[:-val_size]\n",
        "\n",
        "print(X_train)\n",
        "print(y_train)"
      ],
      "execution_count": 28,
      "outputs": [
        {
          "output_type": "stream",
          "text": [
            "     Pclass       Age  SibSp     Parch      Fare  Sex_female  Sex_male  \\\n",
            "35      0.0  0.530635  0.125  0.000000  0.101497         0.0       1.0   \n",
            "787     1.0  0.110676  0.500  0.111111  0.056848         0.0       1.0   \n",
            "164     1.0  0.024214  0.500  0.111111  0.077465         0.0       1.0   \n",
            "780     1.0  0.172435  0.000  0.000000  0.014110         1.0       0.0   \n",
            "239     0.5  0.419469  0.000  0.000000  0.023959         0.0       1.0   \n",
            "..      ...       ...    ...       ...       ...         ...       ...   \n",
            "338     1.0  0.567690  0.000  0.000000  0.015713         0.0       1.0   \n",
            "265     0.5  0.456524  0.000  0.000000  0.020495         0.0       1.0   \n",
            "546     0.5  0.246545  0.125  0.000000  0.050749         1.0       0.0   \n",
            "413     0.5  0.424118  0.000  0.000000  0.000000         0.0       1.0   \n",
            "464     1.0  0.340018  0.000  0.000000  0.015713         0.0       1.0   \n",
            "\n",
            "     Embarked_C  Embarked_Q  Embarked_S  \n",
            "35          0.0         0.0         1.0  \n",
            "787         0.0         1.0         0.0  \n",
            "164         0.0         0.0         1.0  \n",
            "780         1.0         0.0         0.0  \n",
            "239         0.0         0.0         1.0  \n",
            "..          ...         ...         ...  \n",
            "338         0.0         0.0         1.0  \n",
            "265         0.0         0.0         1.0  \n",
            "546         0.0         0.0         1.0  \n",
            "413         0.0         0.0         1.0  \n",
            "464         0.0         0.0         1.0  \n",
            "\n",
            "[779 rows x 10 columns]\n",
            "35     0\n",
            "787    0\n",
            "164    0\n",
            "780    1\n",
            "239    0\n",
            "      ..\n",
            "338    1\n",
            "265    0\n",
            "546    1\n",
            "413    0\n",
            "464    0\n",
            "Name: Survived, Length: 779, dtype: int64\n"
          ],
          "name": "stdout"
        }
      ]
    },
    {
      "cell_type": "code",
      "metadata": {
        "id": "KrNlvXa1DTFc",
        "colab": {
          "base_uri": "https://localhost:8080/"
        },
        "outputId": "63f08a12-8d46-4eab-85b2-a2a706d4d4a8"
      },
      "source": [
        "# Create linear regression object\n",
        "regr = linear_model.LinearRegression()\n",
        "\n",
        "# Train the model using the training sets\n",
        "regr.fit(X_train, y_train)\n",
        "\n",
        "# Make predictions using the validation set\n",
        "y_pred = np.rint(regr.predict(X_val)).astype(int)\n",
        "\n",
        "#print(y_pred)\n",
        "\n",
        "# The coefficients\n",
        "print('Coefficients: \\n', regr.coef_)\n",
        "# The mean squared error\n",
        "print('Mean squared error: %.2f'\n",
        "      % mean_squared_error(y_val, y_pred))\n",
        "# The coefficient of determination: 1 is perfect prediction\n",
        "print('Coefficient of determination: %.2f'\n",
        "      % r2_score(y_val, y_pred))\n",
        "# The accuracy score (fraction of correctly classified samples):\n",
        "print('Accuracy score: %.2f'\n",
        "      % accuracy_score(y_val, y_pred))\n",
        "\n",
        "# Plot outputs\n",
        "#plt.scatter(X_val, y_val,  color='black')\n",
        "#plt.plot(X_val, y_pred, color='blue', linewidth=3)\n",
        "\n",
        "#plt.xticks(())\n",
        "#plt.yticks(())\n",
        "\n",
        "#plt.show()"
      ],
      "execution_count": 29,
      "outputs": [
        {
          "output_type": "stream",
          "text": [
            "Coefficients: \n",
            " [-0.36286697 -0.55631929 -0.51440088 -0.16732749  0.15946178  0.25577758\n",
            " -0.25577758 -0.10177919 -0.07499245 -0.15683067]\n",
            "Mean squared error: 0.24\n",
            "Coefficient of determination: -0.02\n",
            "Accuracy score: 0.76\n"
          ],
          "name": "stdout"
        }
      ]
    },
    {
      "cell_type": "markdown",
      "metadata": {
        "id": "EKPNxf-Qc2Eb"
      },
      "source": [
        "Evaluate the model on the test data and \n",
        "save predictions to file."
      ]
    },
    {
      "cell_type": "code",
      "metadata": {
        "colab": {
          "base_uri": "https://localhost:8080/"
        },
        "id": "H1oORxMvcT56",
        "outputId": "0b2d0a41-f351-4203-b1b7-26b1f690831c"
      },
      "source": [
        "# Generate predictions for the passengers in test.csv\n",
        "predictions = np.rint(regr.predict(X_test).flatten()).astype(int)\n",
        "\n",
        "#print(predictions)\n",
        "#print(test_data.PassengerId)\n",
        "\n",
        "# Save these new predictions in a CSV file my_submission.csv.\n",
        "output = pd.DataFrame({'PassengerId': test_data.PassengerId, \n",
        "                       'Survived': predictions})\n",
        "output.to_csv('my_submission_LR.csv', index=False)\n",
        "\n",
        "print(\"Your submission was successfully saved!\")"
      ],
      "execution_count": 30,
      "outputs": [
        {
          "output_type": "stream",
          "text": [
            "Your submission was successfully saved!\n"
          ],
          "name": "stdout"
        }
      ]
    }
  ]
}