{
  "nbformat": 4,
  "nbformat_minor": 0,
  "metadata": {
    "kernelspec": {
      "display_name": "Python 3",
      "language": "python",
      "name": "python3"
    },
    "language_info": {
      "codemirror_mode": {
        "name": "ipython",
        "version": 3
      },
      "file_extension": ".py",
      "mimetype": "text/x-python",
      "name": "python",
      "nbconvert_exporter": "python",
      "pygments_lexer": "ipython3",
      "version": "3.8.2"
    },
    "colab": {
      "name": "titanic_tensorflow.ipynb",
      "provenance": [],
      "collapsed_sections": [],
      "toc_visible": true
    }
  },
  "cells": [
    {
      "cell_type": "markdown",
      "metadata": {
        "id": "view-in-github"
      },
      "source": [
        "<a href=\"https://colab.research.google.com/github/roldanpau/Titanic/blob/main/titanic.ipynb\" target=\"_parent\"><img src=\"https://colab.research.google.com/assets/colab-badge.svg\" alt=\"Open In Colab\"/></a>"
      ]
    },
    {
      "cell_type": "markdown",
      "metadata": {
        "id": "3esTiQfS6AP_"
      },
      "source": [
        "Tensor flow development"
      ]
    },
    {
      "cell_type": "code",
      "metadata": {
        "id": "R6GJKvqH6AQO"
      },
      "source": [
        "# mlp for binary classification\n",
        "import pandas as pd\n",
        "import numpy as np\n",
        "from pandas import read_csv\n",
        "from sklearn.model_selection import train_test_split\n",
        "from sklearn.preprocessing import LabelEncoder\n",
        "from tensorflow.keras import Sequential\n",
        "from tensorflow.keras.layers import Dense\n",
        "from sklearn.preprocessing import MinMaxScaler, StandardScaler\n",
        "from matplotlib import pyplot\n",
        "import tensorflow as tf\n",
        "from sklearn.linear_model import LinearRegression\n",
        "from tensorflow.keras import regularizers\n",
        "\n",
        "pd.set_option('display.max_columns', None) # Display all columns of dataframes"
      ],
      "execution_count": 743,
      "outputs": []
    },
    {
      "cell_type": "code",
      "metadata": {
        "id": "m5y71okKNRpl"
      },
      "source": [
        "# PARAMETERS\n",
        "val_size = 100    # size of validation set"
      ],
      "execution_count": 744,
      "outputs": []
    },
    {
      "cell_type": "code",
      "metadata": {
        "colab": {
          "base_uri": "https://localhost:8080/",
          "height": 380
        },
        "id": "5ufX4Mjf2Qt4",
        "outputId": "323a061e-a9d1-437b-f037-09bcb5e4a2ed"
      },
      "source": [
        "# Download dataset\r\n",
        "TITANIC_TRAIN = \"https://raw.githubusercontent.com/borjagomez/TF-Titanic/master/data/train.csv\"\r\n",
        "TITANIC_TEST = \"https://raw.githubusercontent.com/borjagomez/TF-Titanic/master/data/test.csv\"\r\n",
        "\r\n",
        "train_data = pd.read_csv(TITANIC_TRAIN)\r\n",
        "test_data = pd.read_csv(TITANIC_TEST)\r\n",
        "\r\n",
        "train_data.head()"
      ],
      "execution_count": 745,
      "outputs": [
        {
          "output_type": "execute_result",
          "data": {
            "text/html": [
              "<div>\n",
              "<style scoped>\n",
              "    .dataframe tbody tr th:only-of-type {\n",
              "        vertical-align: middle;\n",
              "    }\n",
              "\n",
              "    .dataframe tbody tr th {\n",
              "        vertical-align: top;\n",
              "    }\n",
              "\n",
              "    .dataframe thead th {\n",
              "        text-align: right;\n",
              "    }\n",
              "</style>\n",
              "<table border=\"1\" class=\"dataframe\">\n",
              "  <thead>\n",
              "    <tr style=\"text-align: right;\">\n",
              "      <th></th>\n",
              "      <th>PassengerId</th>\n",
              "      <th>Survived</th>\n",
              "      <th>Pclass</th>\n",
              "      <th>Name</th>\n",
              "      <th>Sex</th>\n",
              "      <th>Age</th>\n",
              "      <th>SibSp</th>\n",
              "      <th>Parch</th>\n",
              "      <th>Ticket</th>\n",
              "      <th>Fare</th>\n",
              "      <th>Cabin</th>\n",
              "      <th>Embarked</th>\n",
              "    </tr>\n",
              "  </thead>\n",
              "  <tbody>\n",
              "    <tr>\n",
              "      <th>0</th>\n",
              "      <td>1</td>\n",
              "      <td>0</td>\n",
              "      <td>3</td>\n",
              "      <td>Braund, Mr. Owen Harris</td>\n",
              "      <td>male</td>\n",
              "      <td>22.0</td>\n",
              "      <td>1</td>\n",
              "      <td>0</td>\n",
              "      <td>A/5 21171</td>\n",
              "      <td>7.2500</td>\n",
              "      <td>NaN</td>\n",
              "      <td>S</td>\n",
              "    </tr>\n",
              "    <tr>\n",
              "      <th>1</th>\n",
              "      <td>2</td>\n",
              "      <td>1</td>\n",
              "      <td>1</td>\n",
              "      <td>Cumings, Mrs. John Bradley (Florence Briggs Th...</td>\n",
              "      <td>female</td>\n",
              "      <td>38.0</td>\n",
              "      <td>1</td>\n",
              "      <td>0</td>\n",
              "      <td>PC 17599</td>\n",
              "      <td>71.2833</td>\n",
              "      <td>C85</td>\n",
              "      <td>C</td>\n",
              "    </tr>\n",
              "    <tr>\n",
              "      <th>2</th>\n",
              "      <td>3</td>\n",
              "      <td>1</td>\n",
              "      <td>3</td>\n",
              "      <td>Heikkinen, Miss. Laina</td>\n",
              "      <td>female</td>\n",
              "      <td>26.0</td>\n",
              "      <td>0</td>\n",
              "      <td>0</td>\n",
              "      <td>STON/O2. 3101282</td>\n",
              "      <td>7.9250</td>\n",
              "      <td>NaN</td>\n",
              "      <td>S</td>\n",
              "    </tr>\n",
              "    <tr>\n",
              "      <th>3</th>\n",
              "      <td>4</td>\n",
              "      <td>1</td>\n",
              "      <td>1</td>\n",
              "      <td>Futrelle, Mrs. Jacques Heath (Lily May Peel)</td>\n",
              "      <td>female</td>\n",
              "      <td>35.0</td>\n",
              "      <td>1</td>\n",
              "      <td>0</td>\n",
              "      <td>113803</td>\n",
              "      <td>53.1000</td>\n",
              "      <td>C123</td>\n",
              "      <td>S</td>\n",
              "    </tr>\n",
              "    <tr>\n",
              "      <th>4</th>\n",
              "      <td>5</td>\n",
              "      <td>0</td>\n",
              "      <td>3</td>\n",
              "      <td>Allen, Mr. William Henry</td>\n",
              "      <td>male</td>\n",
              "      <td>35.0</td>\n",
              "      <td>0</td>\n",
              "      <td>0</td>\n",
              "      <td>373450</td>\n",
              "      <td>8.0500</td>\n",
              "      <td>NaN</td>\n",
              "      <td>S</td>\n",
              "    </tr>\n",
              "  </tbody>\n",
              "</table>\n",
              "</div>"
            ],
            "text/plain": [
              "   PassengerId  Survived  Pclass  \\\n",
              "0            1         0       3   \n",
              "1            2         1       1   \n",
              "2            3         1       3   \n",
              "3            4         1       1   \n",
              "4            5         0       3   \n",
              "\n",
              "                                                Name     Sex   Age  SibSp  \\\n",
              "0                            Braund, Mr. Owen Harris    male  22.0      1   \n",
              "1  Cumings, Mrs. John Bradley (Florence Briggs Th...  female  38.0      1   \n",
              "2                             Heikkinen, Miss. Laina  female  26.0      0   \n",
              "3       Futrelle, Mrs. Jacques Heath (Lily May Peel)  female  35.0      1   \n",
              "4                           Allen, Mr. William Henry    male  35.0      0   \n",
              "\n",
              "   Parch            Ticket     Fare Cabin Embarked  \n",
              "0      0         A/5 21171   7.2500   NaN        S  \n",
              "1      0          PC 17599  71.2833   C85        C  \n",
              "2      0  STON/O2. 3101282   7.9250   NaN        S  \n",
              "3      0            113803  53.1000  C123        S  \n",
              "4      0            373450   8.0500   NaN        S  "
            ]
          },
          "metadata": {
            "tags": []
          },
          "execution_count": 745
        }
      ]
    },
    {
      "cell_type": "code",
      "metadata": {
        "colab": {
          "base_uri": "https://localhost:8080/"
        },
        "id": "-9_c2M783R2t",
        "outputId": "2970bac1-bea8-48aa-b474-6edd5c7ef27a"
      },
      "source": [
        "y = train_data[\"Survived\"]\r\n",
        "\r\n",
        "# Use only these features, converting categorical variables (such as \"Sex\" and \r\n",
        "# \"Embarked\") into indicator (or \"dummy\") variables\r\n",
        "features = [\"Pclass\", \"Sex\", \"Age\", \"SibSp\", \"Parch\", \"Fare\", \"Embarked\"]\r\n",
        "X = pd.get_dummies(train_data[features])\r\n",
        "X_test = pd.get_dummies(test_data[features])\r\n",
        "\r\n",
        "# To scale X and X_test homogeneously, we concat them in a single dataframe, X2.\r\n",
        "X2 = pd.concat([X, X_test])\r\n",
        "\r\n",
        "# Show which columns have unknown values\r\n",
        "#print(X2.isna().sum())\r\n",
        "\r\n",
        "# We have NaN values in Age and Fare. \r\n",
        "# Substitute missing \"Fare\" values by the average.\r\n",
        "X2[\"Fare\"] = X2.Fare.fillna(X2.Fare.mean())\r\n",
        "\r\n",
        "print(\"Mean age:\", X2.Age.mean())\r\n",
        "\r\n",
        "# Predict missing \"Age\" values\r\n",
        "cols = [\"Pclass\", \"SibSp\", \"Parch\", \"Age\"]\r\n",
        "df = X2[cols]\r\n",
        "\r\n",
        "age_test_data = df[df[\"Age\"].isnull()]\r\n",
        "age_data = df.dropna(inplace=False)\r\n",
        "\r\n",
        "age_y_train = age_data[\"Age\"]\r\n",
        "age_X_train = age_data.drop(\"Age\", axis=1)\r\n",
        "age_y_test = age_test_data[\"Age\"]\r\n",
        "age_X_test = age_test_data.drop(\"Age\", axis=1)\r\n",
        "\r\n",
        "age_model = LinearRegression()\r\n",
        "age_model.fit(age_X_train, age_y_train)\r\n",
        "\r\n",
        "age_y_pred = age_model.predict(age_X_test)\r\n",
        "\r\n",
        "#replace the missing values with predicted values\r\n",
        "X2.loc[X2.Age.isnull(), 'Age'] = age_y_pred\r\n",
        "\r\n",
        "#print(X2.isna().sum())\r\n",
        "\r\n",
        "# (PRG: Debug...)\r\n",
        "X_test = X2.iloc[X.shape[0]:, :]\r\n",
        "print(X_test[\"Age\"].to_frame().T)"
      ],
      "execution_count": 746,
      "outputs": [
        {
          "output_type": "stream",
          "text": [
            "Mean age: 29.881137667304014\n",
            "      0     1     2     3     4     5     6     7     8     9          10   \\\n",
            "Age  34.5  47.0  62.0  27.0  22.0  14.0  30.0  26.0  18.0  21.0  26.567571   \n",
            "\n",
            "      11    12    13    14    15    16    17    18    19    20   21   \\\n",
            "Age  46.0  23.0  63.0  47.0  24.0  35.0  21.0  27.0  45.0  55.0  9.0   \n",
            "\n",
            "           22    23    24    25    26    27    28         29    30    31   \\\n",
            "Age  40.185224  21.0  48.0  50.0  22.0  22.5  41.0  20.282929  50.0  24.0   \n",
            "\n",
            "      32         33    34    35         36    37    38         39    40   \\\n",
            "Age  33.0  21.035862  30.0  18.5  26.567571  21.0  25.0  26.567571  39.0   \n",
            "\n",
            "           41    42    43    44    45    46         47    48    49    50   \\\n",
            "Age  40.185224  41.0  30.0  45.0  25.0  45.0  26.567571  60.0  36.0  24.0   \n",
            "\n",
            "      51    52    53         54    55    56    57        58    59    60   \\\n",
            "Age  27.0  20.0  28.0  33.376397  10.0  35.0  25.0  23.42525  36.0  17.0   \n",
            "\n",
            "      61    62    63    64         65    66    67    68    69    70    71   \\\n",
            "Age  32.0  18.0  22.0  13.0  33.376397  18.0  47.0  31.0  60.0  24.0  21.0   \n",
            "\n",
            "      72    73    74    75         76    77    78    79   80    81    82   \\\n",
            "Age  29.0  28.5  35.0  32.5  26.567571  55.0  30.0  24.0  6.0  67.0  49.0   \n",
            "\n",
            "           83         84        85    86    87         88   89    90   \\\n",
            "Age  26.567571  33.376397  23.42525  27.0  18.0  26.567571  2.0  22.0   \n",
            "\n",
            "           91    92         93    94    95    96    97    98    99    100  \\\n",
            "Age  26.567571  27.0  26.567571  25.0  25.0  76.0  29.0  20.0  33.0  43.0   \n",
            "\n",
            "      101        102   103   104   105   106        107        108   109  \\\n",
            "Age  27.0  26.567571  26.0  16.0  28.0  21.0  26.567571  26.567571  18.5   \n",
            "\n",
            "      110        111   112   113   114   115        116  117   118   119  \\\n",
            "Age  41.0  26.567571  36.0  18.5  63.0  18.0  26.567571  1.0  36.0  29.0   \n",
            "\n",
            "      120       121   122   123        124   125   126        127   128   129  \\\n",
            "Age  12.0  23.42525  35.0  28.0  26.567571  17.0  22.0  20.282929  42.0  24.0   \n",
            "\n",
            "      130   131        132       133   134   135   136   137   138   139  \\\n",
            "Age  32.0  53.0  21.788796  23.42525  43.0  24.0  26.5  26.0  23.0  40.0   \n",
            "\n",
            "      140   141   142   143   144   145        146   147        148   149  \\\n",
            "Age  10.0  33.0  61.0  28.0  42.0  31.0  40.185224  22.0  40.185224  30.0   \n",
            "\n",
            "      150        151   152   153   154   155   156   157   158   159  \\\n",
            "Age  23.0  26.567571  60.5  36.0  13.0  24.0  29.0  23.0  42.0  26.0   \n",
            "\n",
            "           160  161   162        163   164   165   166   167        168   169  \\\n",
            "Age  26.567571  7.0  26.0  26.567571  41.0  26.0  48.0  18.0  40.185224  22.0   \n",
            "\n",
            "           170   171   172        173   174   175   176   177   178   179  \\\n",
            "Age  26.567571  27.0  23.0  26.567571  40.0  15.0  20.0  54.0  36.0  64.0   \n",
            "\n",
            "      180   181   182        183   184   185   186   187       188   189  \\\n",
            "Age  30.0  37.0  18.0  26.567571  27.0  40.0  21.0  17.0 -0.960385  40.0   \n",
            "\n",
            "      190        191   192   193  194   195  196   197   198        199  \\\n",
            "Age  34.0  40.185224  11.5  61.0  8.0  33.0  6.0  18.0  23.0  26.567571   \n",
            "\n",
            "           200   201   202  203   204        205   206   207   208   209  \\\n",
            "Age  26.567571  0.33  47.0  8.0  25.0  40.185224  35.0  24.0  33.0  25.0   \n",
            "\n",
            "      210        211   212   213   214   215        216   217   218  \\\n",
            "Age  32.0  26.567571  17.0  60.0  38.0  42.0  26.567571  57.0  50.0   \n",
            "\n",
            "           219   220   221   222   223   224        225   226        227  \\\n",
            "Age  26.567571  30.0  21.0  22.0  21.0  53.0  24.178183  23.0  26.567571   \n",
            "\n",
            "      228   229   230   231   232        233   234   235   236   237   238  \\\n",
            "Age  40.5  36.0  14.0  21.0  21.0  26.567571  39.0  20.0  64.0  20.0  18.0   \n",
            "\n",
            "      239   240   241   242        243        244   245   246   247   248  \\\n",
            "Age  48.0  55.0  45.0  45.0  26.567571  21.035862  41.0  22.0  42.0  29.0   \n",
            "\n",
            "          249   250   251   252   253   254        255        256   257   258  \\\n",
            "Age  23.42525  0.92  20.0  27.0  24.0  32.5  26.567571  26.567571  28.0  19.0   \n",
            "\n",
            "      259   260   261   262  263   264        265        266        267  \\\n",
            "Age  21.0  36.5  21.0  29.0  1.0  30.0  26.567571  40.185224  26.567571   \n",
            "\n",
            "           268   269   270        271   272       273        274   275   276  \\\n",
            "Age  26.567571  17.0  46.0  26.567571  26.0  23.42525  26.567571  20.0  28.0   \n",
            "\n",
            "      277   278   279   280   281        282  283  284   285        286   287  \\\n",
            "Age  40.0  30.0  22.0  23.0  0.75  26.567571  9.0  2.0  36.0  26.567571  24.0   \n",
            "\n",
            "           288        289        290   291        292   293   294   295  296  \\\n",
            "Age  26.567571  26.567571  40.185224  30.0  26.567571  53.0  36.0  26.0  1.0   \n",
            "\n",
            "           297   298   299   300        301   302   303        304   305  \\\n",
            "Age  20.282929  30.0  29.0  32.0  33.376397  43.0  24.0  26.567571  64.0   \n",
            "\n",
            "      306   307   308   309   310   311        312   313   314   315   316  \\\n",
            "Age  30.0  0.83  55.0  45.0  18.0  22.0  26.567571  37.0  55.0  17.0  57.0   \n",
            "\n",
            "      317   318   319   320   321   322   323   324   325   326   327   328  \\\n",
            "Age  19.0  27.0  22.0  26.0  25.0  26.0  33.0  39.0  23.0  12.0  46.0  29.0   \n",
            "\n",
            "      329   330   331        332   333   334   335   336   337   338  \\\n",
            "Age  21.0  48.0  39.0  26.567571  19.0  27.0  30.0  32.0  39.0  25.0   \n",
            "\n",
            "           339   340   341        342   343        344   345   346   347  \\\n",
            "Age  26.567571  18.0  32.0  12.673007  58.0  22.230556  16.0  26.0  38.0   \n",
            "\n",
            "      348   349   350   351   352   353   354   355   356        357  \\\n",
            "Age  24.0  31.0  45.0  25.0  18.0  49.0  0.17  50.0  59.0  26.567571   \n",
            "\n",
            "           358   359   360   361   362   363   364        365       366   367  \\\n",
            "Age  26.567571  30.0  14.5  24.0  31.0  27.0  25.0  12.673007  23.42525  22.0   \n",
            "\n",
            "      368   369   370   371   372   373   374   375   376   377   378  379  \\\n",
            "Age  45.0  29.0  21.0  31.0  49.0  44.0  54.0  45.0  22.0  21.0  55.0  5.0   \n",
            "\n",
            "           380   381        382   383        384   385   386   387   388  389  \\\n",
            "Age  26.567571  26.0  26.567571  19.0  33.376397  24.0  24.0  57.0  21.0  6.0   \n",
            "\n",
            "      390   391   392   393   394   395   396   397   398   399   400   401  \\\n",
            "Age  23.0  51.0  13.0  47.0  29.0  18.0  24.0  48.0  22.0  31.0  30.0  38.0   \n",
            "\n",
            "      402   403   404   405   406   407        408  409        410   411  \\\n",
            "Age  22.0  17.0  43.0  20.0  23.0  50.0  26.567571  3.0  26.567571  37.0   \n",
            "\n",
            "      412        413   414   415        416        417  \n",
            "Age  28.0  26.567571  39.0  38.5  26.567571  22.230556  \n"
          ],
          "name": "stdout"
        }
      ]
    },
    {
      "cell_type": "code",
      "metadata": {
        "colab": {
          "base_uri": "https://localhost:8080/"
        },
        "id": "P_xUbQYJsdyh",
        "outputId": "e95fab72-5b29-4674-c94c-138930e01cc4"
      },
      "source": [
        "scaler = MinMaxScaler()\n",
        "X2 = pd.DataFrame(scaler.fit_transform(X2), columns=X2.columns)\n",
        "#print(X2.head())\n",
        "\n",
        "print(X.shape[0])\n",
        "\n",
        "X = X2.iloc[:X.shape[0], :]\n",
        "X_test = X2.iloc[X.shape[0]:, :]\n",
        "#print(X.head())\n",
        "#print(X.tail())\n",
        "#print(X_test.head())\n",
        "#print(X_test.tail())\n",
        "\n",
        "print(X_test.head)\n"
      ],
      "execution_count": 747,
      "outputs": [
        {
          "output_type": "stream",
          "text": [
            "891\n",
            "<bound method NDFrame.head of       Pclass       Age  SibSp     Parch      Fare  Sex_female  Sex_male  \\\n",
            "891      1.0  0.437997  0.000  0.000000  0.015282         0.0       1.0   \n",
            "892      1.0  0.592393  0.125  0.000000  0.013663         1.0       0.0   \n",
            "893      0.5  0.777669  0.000  0.000000  0.018909         0.0       1.0   \n",
            "894      1.0  0.345359  0.000  0.000000  0.016908         0.0       1.0   \n",
            "895      1.0  0.283600  0.125  0.111111  0.023984         1.0       0.0   \n",
            "...      ...       ...    ...       ...       ...         ...       ...   \n",
            "1304     1.0  0.340018  0.000  0.000000  0.015713         0.0       1.0   \n",
            "1305     0.0  0.493579  0.000  0.000000  0.212559         1.0       0.0   \n",
            "1306     1.0  0.487404  0.000  0.000000  0.014151         0.0       1.0   \n",
            "1307     1.0  0.340018  0.000  0.000000  0.015713         0.0       1.0   \n",
            "1308     1.0  0.286448  0.125  0.111111  0.043640         0.0       1.0   \n",
            "\n",
            "      Embarked_C  Embarked_Q  Embarked_S  \n",
            "891          0.0         1.0         0.0  \n",
            "892          0.0         0.0         1.0  \n",
            "893          0.0         1.0         0.0  \n",
            "894          0.0         0.0         1.0  \n",
            "895          0.0         0.0         1.0  \n",
            "...          ...         ...         ...  \n",
            "1304         0.0         0.0         1.0  \n",
            "1305         1.0         0.0         0.0  \n",
            "1306         0.0         0.0         1.0  \n",
            "1307         0.0         0.0         1.0  \n",
            "1308         1.0         0.0         0.0  \n",
            "\n",
            "[418 rows x 10 columns]>\n"
          ],
          "name": "stdout"
        }
      ]
    },
    {
      "cell_type": "code",
      "metadata": {
        "colab": {
          "base_uri": "https://localhost:8080/"
        },
        "id": "aKsDtktv6AQS",
        "outputId": "7951b8b5-df3f-47d4-f43e-93575f6800fe"
      },
      "source": [
        "print(X)\n",
        "print(X_test)\n",
        "print(y)"
      ],
      "execution_count": 748,
      "outputs": [
        {
          "output_type": "stream",
          "text": [
            "     Pclass       Age  SibSp     Parch      Fare  Sex_female  Sex_male  \\\n",
            "0       1.0  0.283600  0.125  0.000000  0.014151         0.0       1.0   \n",
            "1       0.0  0.481228  0.125  0.000000  0.139136         1.0       0.0   \n",
            "2       1.0  0.333007  0.000  0.000000  0.015469         1.0       0.0   \n",
            "3       0.0  0.444173  0.125  0.000000  0.103644         1.0       0.0   \n",
            "4       1.0  0.444173  0.000  0.000000  0.015713         0.0       1.0   \n",
            "..      ...       ...    ...       ...       ...         ...       ...   \n",
            "886     0.5  0.345359  0.000  0.000000  0.025374         0.0       1.0   \n",
            "887     0.0  0.246545  0.000  0.000000  0.058556         1.0       0.0   \n",
            "888     1.0  0.271691  0.125  0.222222  0.045771         1.0       0.0   \n",
            "889     0.0  0.333007  0.000  0.000000  0.058556         0.0       1.0   \n",
            "890     1.0  0.407117  0.000  0.000000  0.015127         0.0       1.0   \n",
            "\n",
            "     Embarked_C  Embarked_Q  Embarked_S  \n",
            "0           0.0         0.0         1.0  \n",
            "1           1.0         0.0         0.0  \n",
            "2           0.0         0.0         1.0  \n",
            "3           0.0         0.0         1.0  \n",
            "4           0.0         0.0         1.0  \n",
            "..          ...         ...         ...  \n",
            "886         0.0         0.0         1.0  \n",
            "887         0.0         0.0         1.0  \n",
            "888         0.0         0.0         1.0  \n",
            "889         1.0         0.0         0.0  \n",
            "890         0.0         1.0         0.0  \n",
            "\n",
            "[891 rows x 10 columns]\n",
            "      Pclass       Age  SibSp     Parch      Fare  Sex_female  Sex_male  \\\n",
            "891      1.0  0.437997  0.000  0.000000  0.015282         0.0       1.0   \n",
            "892      1.0  0.592393  0.125  0.000000  0.013663         1.0       0.0   \n",
            "893      0.5  0.777669  0.000  0.000000  0.018909         0.0       1.0   \n",
            "894      1.0  0.345359  0.000  0.000000  0.016908         0.0       1.0   \n",
            "895      1.0  0.283600  0.125  0.111111  0.023984         1.0       0.0   \n",
            "...      ...       ...    ...       ...       ...         ...       ...   \n",
            "1304     1.0  0.340018  0.000  0.000000  0.015713         0.0       1.0   \n",
            "1305     0.0  0.493579  0.000  0.000000  0.212559         1.0       0.0   \n",
            "1306     1.0  0.487404  0.000  0.000000  0.014151         0.0       1.0   \n",
            "1307     1.0  0.340018  0.000  0.000000  0.015713         0.0       1.0   \n",
            "1308     1.0  0.286448  0.125  0.111111  0.043640         0.0       1.0   \n",
            "\n",
            "      Embarked_C  Embarked_Q  Embarked_S  \n",
            "891          0.0         1.0         0.0  \n",
            "892          0.0         0.0         1.0  \n",
            "893          0.0         1.0         0.0  \n",
            "894          0.0         0.0         1.0  \n",
            "895          0.0         0.0         1.0  \n",
            "...          ...         ...         ...  \n",
            "1304         0.0         0.0         1.0  \n",
            "1305         1.0         0.0         0.0  \n",
            "1306         0.0         0.0         1.0  \n",
            "1307         0.0         0.0         1.0  \n",
            "1308         1.0         0.0         0.0  \n",
            "\n",
            "[418 rows x 10 columns]\n",
            "0      0\n",
            "1      1\n",
            "2      1\n",
            "3      1\n",
            "4      0\n",
            "      ..\n",
            "886    0\n",
            "887    1\n",
            "888    0\n",
            "889    1\n",
            "890    0\n",
            "Name: Survived, Length: 891, dtype: int64\n"
          ],
          "name": "stdout"
        }
      ]
    },
    {
      "cell_type": "markdown",
      "metadata": {
        "id": "Pt0IUARR_d_K"
      },
      "source": [
        "To evaluate how well the trained model performs on unseen data, we further split the dataset into separate training and test datasets."
      ]
    },
    {
      "cell_type": "code",
      "metadata": {
        "colab": {
          "base_uri": "https://localhost:8080/"
        },
        "id": "5ojNb50a_0Kt",
        "outputId": "fa8c682d-b4fd-42e6-8402-8a472220e9f6"
      },
      "source": [
        "from sklearn.model_selection import train_test_split\n",
        "X_train, X_val, y_train, y_val = train_test_split(X, y, \n",
        "                                                  test_size=0.125, \n",
        "                                                  random_state=1, \n",
        "                                                  stratify=y)\n",
        "\n",
        "# Reserve 100 samples for validation\n",
        "# X_val = X[-val_size:]\n",
        "# y_val = y[-val_size:]\n",
        "# X_train = X[:-val_size]\n",
        "# y_train = y[:-val_size]\n",
        "\n",
        "print(X_train)\n",
        "print(y_train)"
      ],
      "execution_count": 749,
      "outputs": [
        {
          "output_type": "stream",
          "text": [
            "     Pclass       Age  SibSp     Parch      Fare  Sex_female  Sex_male  \\\n",
            "35      0.0  0.530635  0.125  0.000000  0.101497         0.0       1.0   \n",
            "787     1.0  0.110676  0.500  0.111111  0.056848         0.0       1.0   \n",
            "164     1.0  0.024214  0.500  0.111111  0.077465         0.0       1.0   \n",
            "780     1.0  0.172435  0.000  0.000000  0.014110         1.0       0.0   \n",
            "239     0.5  0.419469  0.000  0.000000  0.023959         0.0       1.0   \n",
            "..      ...       ...    ...       ...       ...         ...       ...   \n",
            "338     1.0  0.567690  0.000  0.000000  0.015713         0.0       1.0   \n",
            "265     0.5  0.456524  0.000  0.000000  0.020495         0.0       1.0   \n",
            "546     0.5  0.246545  0.125  0.000000  0.050749         1.0       0.0   \n",
            "413     0.5  0.424118  0.000  0.000000  0.000000         0.0       1.0   \n",
            "464     1.0  0.340018  0.000  0.000000  0.015713         0.0       1.0   \n",
            "\n",
            "     Embarked_C  Embarked_Q  Embarked_S  \n",
            "35          0.0         0.0         1.0  \n",
            "787         0.0         1.0         0.0  \n",
            "164         0.0         0.0         1.0  \n",
            "780         1.0         0.0         0.0  \n",
            "239         0.0         0.0         1.0  \n",
            "..          ...         ...         ...  \n",
            "338         0.0         0.0         1.0  \n",
            "265         0.0         0.0         1.0  \n",
            "546         0.0         0.0         1.0  \n",
            "413         0.0         0.0         1.0  \n",
            "464         0.0         0.0         1.0  \n",
            "\n",
            "[779 rows x 10 columns]\n",
            "35     0\n",
            "787    0\n",
            "164    0\n",
            "780    1\n",
            "239    0\n",
            "      ..\n",
            "338    1\n",
            "265    0\n",
            "546    1\n",
            "413    0\n",
            "464    0\n",
            "Name: Survived, Length: 779, dtype: int64\n"
          ],
          "name": "stdout"
        }
      ]
    },
    {
      "cell_type": "code",
      "metadata": {
        "colab": {
          "base_uri": "https://localhost:8080/",
          "height": 347
        },
        "id": "UWYlV7oy6AQT",
        "outputId": "d24d9546-6420-492e-f6c3-04331141d9af"
      },
      "source": [
        "num_epochs = 100\n",
        "\n",
        "# determine the number of input features\n",
        "n_features = X_train.shape[1]\n",
        "print(\"Number of features: \", n_features)\n",
        "\n",
        "# define model\n",
        "model = Sequential()\n",
        "model.add(Dense(512, activation='relu', \n",
        "                #kernel_initializer='he_normal', \n",
        "                kernel_regularizer=regularizers.l2(0.01),\n",
        "                input_shape=(n_features,)))\n",
        "model.add(Dense(512, activation='relu', \n",
        "                #kernel_initializer='he_normal', \n",
        "                kernel_regularizer=regularizers.l2(0.01),\n",
        "                ))\n",
        "model.add(Dense(512, activation='relu', \n",
        "                #kernel_initializer='he_normal', \n",
        "                kernel_regularizer=regularizers.l2(0.01),\n",
        "                ))\n",
        "model.add(Dense(512, activation='relu', \n",
        "                #kernel_initializer='he_normal', \n",
        "                kernel_regularizer=regularizers.l2(0.01),\n",
        "                ))\n",
        "model.add(Dense(1, activation='sigmoid'))\n",
        "\n",
        "# Configure the Adam optimization\n",
        "# Adam = tf.keras.optimizers.Adam(\n",
        "#     learning_rate=0.001, beta_1=0.9, beta_2=0.999, epsilon=1e-07, amsgrad=False,\n",
        "#     name='Adam'\n",
        "# )\n",
        "\n",
        "# Configure the SGD optimization\n",
        "opt = tf.keras.optimizers.SGD(learning_rate=0.1)\n",
        "\n",
        "# compile the model\n",
        "model.compile(optimizer=opt, loss='binary_crossentropy', metrics=['accuracy'])\n",
        "\n",
        "# fit the model\n",
        "history = model.fit(X_train, \n",
        "                    y_train, \n",
        "                    epochs=num_epochs, \n",
        "                    batch_size=32, \n",
        "                    verbose=0, \n",
        "                    # We pass some validation for\n",
        "                    # monitoring validation loss and metrics\n",
        "                    # at the end of each epoch\n",
        "                    validation_data=(X_val, y_val))\n",
        "\n",
        "# We defenitely have a problem of variance or overfitting. We should regularize.\n",
        "pyplot.title('Learning Curves')\n",
        "pyplot.xlabel('Epoch')\n",
        "pyplot.ylabel('Cross Entropy')\n",
        "pyplot.plot(history.history['loss'], label='train')\n",
        "pyplot.plot(history.history['val_loss'], label='val')\n",
        "pyplot.legend()\n",
        "pyplot.show()\n",
        "\n",
        "# PRG: This seems to refer to accuracy ON THE LAST BATCH of validation data \n",
        "# (i.e. only on one batch of examples of size batch_size=32).\n",
        "# (See https://stackoverflow.com/questions/56447493/keras-model-fit-with-validation-data-which-batch-size-is-used-to-evaluate-the)\n",
        "print(\"Accuracy on validation data:\")\n",
        "print(history.history['accuracy'][num_epochs-1])\n",
        "\n",
        "# Next steps\n",
        "# 1. Regularization\n",
        "# 2. Add Cabin, Ticket or even Name attributes to the dataset\n"
      ],
      "execution_count": 750,
      "outputs": [
        {
          "output_type": "stream",
          "text": [
            "Number of features:  10\n"
          ],
          "name": "stdout"
        },
        {
          "output_type": "display_data",
          "data": {
            "image/png": "[encoded data removed]",
            "text/plain": [
              "<Figure size 432x288 with 1 Axes>"
            ]
          },
          "metadata": {
            "tags": [],
            "needs_background": "light"
          }
        },
        {
          "output_type": "stream",
          "text": [
            "Accuracy on validation data:\n",
            "0.7907573580741882\n"
          ],
          "name": "stdout"
        }
      ]
    },
    {
      "cell_type": "markdown",
      "metadata": {
        "id": "4mo28C4ieldE"
      },
      "source": [
        "Evaluate the model on the ENTIRE validation set"
      ]
    },
    {
      "cell_type": "code",
      "metadata": {
        "colab": {
          "base_uri": "https://localhost:8080/"
        },
        "id": "LnxfQjZHepuC",
        "outputId": "82de173b-3963-4fa4-c9af-80f6126c64e1"
      },
      "source": [
        "results = model.evaluate(X_val, y_val, batch_size=val_size)\n",
        "#print(\"test loss, test acc:\", results)"
      ],
      "execution_count": 751,
      "outputs": [
        {
          "output_type": "stream",
          "text": [
            "2/2 [==============================] - 0s 9ms/step - loss: 0.5439 - accuracy: 0.7946\n"
          ],
          "name": "stdout"
        }
      ]
    },
    {
      "cell_type": "markdown",
      "metadata": {
        "id": "zcmLIVRTJQbA"
      },
      "source": [
        "# Evaluate the model on the test data"
      ]
    },
    {
      "cell_type": "code",
      "metadata": {
        "id": "24i-Awl0L4Ca",
        "colab": {
          "base_uri": "https://localhost:8080/"
        },
        "outputId": "5d8519fb-0dd1-44d9-af58-ad397ba3caa4"
      },
      "source": [
        "# Generate predictions for the passengers in test.csv\r\n",
        "predictions = np.rint(model.predict(X_test).flatten()).astype(int)\r\n",
        "\r\n",
        "#print(predictions)\r\n",
        "#print(test_data.PassengerId)\r\n",
        "\r\n",
        "# Save these new predictions in a CSV file my_submission.csv.\r\n",
        "output = pd.DataFrame({'PassengerId': test_data.PassengerId, 'Survived': predictions})\r\n",
        "output.to_csv('my_submission_TF.csv', index=False)\r\n",
        "\r\n",
        "print(\"Your submission was successfully saved!\")"
      ],
      "execution_count": 752,
      "outputs": [
        {
          "output_type": "stream",
          "text": [
            "Your submission was successfully saved!\n"
          ],
          "name": "stdout"
        }
      ]
    }
  ]
}