{
  "nbformat": 4,
  "nbformat_minor": 0,
  "metadata": {
    "kernelspec": {
      "display_name": "Python 3",
      "language": "python",
      "name": "python3"
    },
    "language_info": {
      "codemirror_mode": {
        "name": "ipython",
        "version": 3
      },
      "file_extension": ".py",
      "mimetype": "text/x-python",
      "name": "python",
      "nbconvert_exporter": "python",
      "pygments_lexer": "ipython3",
      "version": "3.8.2"
    },
    "colab": {
      "name": "titanic_tensorflow.ipynb",
      "provenance": [],
      "collapsed_sections": []
    }
  },
  "cells": [
    {
      "cell_type": "markdown",
      "metadata": {
        "id": "view-in-github"
      },
      "source": [
        "<a href=\"https://colab.research.google.com/github/roldanpau/Titanic/blob/main/titanic.ipynb\" target=\"_parent\"><img src=\"https://colab.research.google.com/assets/colab-badge.svg\" alt=\"Open In Colab\"/></a>"
      ]
    },
    {
      "cell_type": "markdown",
      "metadata": {
        "id": "3esTiQfS6AP_"
      },
      "source": [
        "Tensor flow development"
      ]
    },
    {
      "cell_type": "code",
      "metadata": {
        "id": "R6GJKvqH6AQO"
      },
      "source": [
        "# mlp for binary classification\n",
        "import pandas as pd\n",
        "import numpy as np\n",
        "from pandas import read_csv\n",
        "from sklearn.model_selection import train_test_split\n",
        "from sklearn.preprocessing import LabelEncoder\n",
        "from tensorflow.keras import Sequential\n",
        "from tensorflow.keras.layers import Dense\n",
        "from sklearn.preprocessing import MinMaxScaler, StandardScaler\n",
        "from matplotlib import pyplot\n",
        "import tensorflow as tf\n",
        "\n",
        "pd.set_option('display.max_columns', None) # Display all columns of dataframes"
      ],
      "execution_count": 10,
      "outputs": []
    },
    {
      "cell_type": "code",
      "metadata": {
        "id": "m5y71okKNRpl"
      },
      "source": [
        "# PARAMETERS\n",
        "num_epochs = 500\n",
        "val_size = 100    # size of validation set"
      ],
      "execution_count": 11,
      "outputs": []
    },
    {
      "cell_type": "code",
      "metadata": {
        "colab": {
          "base_uri": "https://localhost:8080/",
          "height": 206
        },
        "id": "5ufX4Mjf2Qt4",
        "outputId": "1f11775b-ab3a-498e-8028-7bdfd89c833b"
      },
      "source": [
        "# Download dataset\r\n",
        "TITANIC_TRAIN = \"https://raw.githubusercontent.com/borjagomez/TF-Titanic/master/data/train.csv\"\r\n",
        "TITANIC_TEST = \"https://raw.githubusercontent.com/borjagomez/TF-Titanic/master/data/test.csv\"\r\n",
        "\r\n",
        "train_data = pd.read_csv(TITANIC_TRAIN)\r\n",
        "test_data = pd.read_csv(TITANIC_TEST)\r\n",
        "\r\n",
        "train_data.head()"
      ],
      "execution_count": 12,
      "outputs": [
        {
          "output_type": "execute_result",
          "data": {
            "text/html": [
              "<div>\n",
              "<style scoped>\n",
              "    .dataframe tbody tr th:only-of-type {\n",
              "        vertical-align: middle;\n",
              "    }\n",
              "\n",
              "    .dataframe tbody tr th {\n",
              "        vertical-align: top;\n",
              "    }\n",
              "\n",
              "    .dataframe thead th {\n",
              "        text-align: right;\n",
              "    }\n",
              "</style>\n",
              "<table border=\"1\" class=\"dataframe\">\n",
              "  <thead>\n",
              "    <tr style=\"text-align: right;\">\n",
              "      <th></th>\n",
              "      <th>PassengerId</th>\n",
              "      <th>Survived</th>\n",
              "      <th>Pclass</th>\n",
              "      <th>Name</th>\n",
              "      <th>Sex</th>\n",
              "      <th>Age</th>\n",
              "      <th>SibSp</th>\n",
              "      <th>Parch</th>\n",
              "      <th>Ticket</th>\n",
              "      <th>Fare</th>\n",
              "      <th>Cabin</th>\n",
              "      <th>Embarked</th>\n",
              "    </tr>\n",
              "  </thead>\n",
              "  <tbody>\n",
              "    <tr>\n",
              "      <th>0</th>\n",
              "      <td>1</td>\n",
              "      <td>0</td>\n",
              "      <td>3</td>\n",
              "      <td>Braund, Mr. Owen Harris</td>\n",
              "      <td>male</td>\n",
              "      <td>22.0</td>\n",
              "      <td>1</td>\n",
              "      <td>0</td>\n",
              "      <td>A/5 21171</td>\n",
              "      <td>7.2500</td>\n",
              "      <td>NaN</td>\n",
              "      <td>S</td>\n",
              "    </tr>\n",
              "    <tr>\n",
              "      <th>1</th>\n",
              "      <td>2</td>\n",
              "      <td>1</td>\n",
              "      <td>1</td>\n",
              "      <td>Cumings, Mrs. John Bradley (Florence Briggs Th...</td>\n",
              "      <td>female</td>\n",
              "      <td>38.0</td>\n",
              "      <td>1</td>\n",
              "      <td>0</td>\n",
              "      <td>PC 17599</td>\n",
              "      <td>71.2833</td>\n",
              "      <td>C85</td>\n",
              "      <td>C</td>\n",
              "    </tr>\n",
              "    <tr>\n",
              "      <th>2</th>\n",
              "      <td>3</td>\n",
              "      <td>1</td>\n",
              "      <td>3</td>\n",
              "      <td>Heikkinen, Miss. Laina</td>\n",
              "      <td>female</td>\n",
              "      <td>26.0</td>\n",
              "      <td>0</td>\n",
              "      <td>0</td>\n",
              "      <td>STON/O2. 3101282</td>\n",
              "      <td>7.9250</td>\n",
              "      <td>NaN</td>\n",
              "      <td>S</td>\n",
              "    </tr>\n",
              "    <tr>\n",
              "      <th>3</th>\n",
              "      <td>4</td>\n",
              "      <td>1</td>\n",
              "      <td>1</td>\n",
              "      <td>Futrelle, Mrs. Jacques Heath (Lily May Peel)</td>\n",
              "      <td>female</td>\n",
              "      <td>35.0</td>\n",
              "      <td>1</td>\n",
              "      <td>0</td>\n",
              "      <td>113803</td>\n",
              "      <td>53.1000</td>\n",
              "      <td>C123</td>\n",
              "      <td>S</td>\n",
              "    </tr>\n",
              "    <tr>\n",
              "      <th>4</th>\n",
              "      <td>5</td>\n",
              "      <td>0</td>\n",
              "      <td>3</td>\n",
              "      <td>Allen, Mr. William Henry</td>\n",
              "      <td>male</td>\n",
              "      <td>35.0</td>\n",
              "      <td>0</td>\n",
              "      <td>0</td>\n",
              "      <td>373450</td>\n",
              "      <td>8.0500</td>\n",
              "      <td>NaN</td>\n",
              "      <td>S</td>\n",
              "    </tr>\n",
              "  </tbody>\n",
              "</table>\n",
              "</div>"
            ],
            "text/plain": [
              "   PassengerId  Survived  Pclass  \\\n",
              "0            1         0       3   \n",
              "1            2         1       1   \n",
              "2            3         1       3   \n",
              "3            4         1       1   \n",
              "4            5         0       3   \n",
              "\n",
              "                                                Name     Sex   Age  SibSp  \\\n",
              "0                            Braund, Mr. Owen Harris    male  22.0      1   \n",
              "1  Cumings, Mrs. John Bradley (Florence Briggs Th...  female  38.0      1   \n",
              "2                             Heikkinen, Miss. Laina  female  26.0      0   \n",
              "3       Futrelle, Mrs. Jacques Heath (Lily May Peel)  female  35.0      1   \n",
              "4                           Allen, Mr. William Henry    male  35.0      0   \n",
              "\n",
              "   Parch            Ticket     Fare Cabin Embarked  \n",
              "0      0         A/5 21171   7.2500   NaN        S  \n",
              "1      0          PC 17599  71.2833   C85        C  \n",
              "2      0  STON/O2. 3101282   7.9250   NaN        S  \n",
              "3      0            113803  53.1000  C123        S  \n",
              "4      0            373450   8.0500   NaN        S  "
            ]
          },
          "metadata": {
            "tags": []
          },
          "execution_count": 12
        }
      ]
    },
    {
      "cell_type": "code",
      "metadata": {
        "colab": {
          "base_uri": "https://localhost:8080/"
        },
        "id": "-9_c2M783R2t",
        "outputId": "7438f2c2-2abc-4fe6-b0a7-980e3dbcbdf6"
      },
      "source": [
        "y = train_data[\"Survived\"]\r\n",
        "\r\n",
        "# Use only these features, converting categorical variables (such as \"Sex\" and \r\n",
        "# \"Embarked\") into indicator (or \"dummy\") variables\r\n",
        "features = [\"Pclass\", \"Sex\", \"Age\", \"SibSp\", \"Parch\", \"Fare\", \"Embarked\"]\r\n",
        "X = pd.get_dummies(train_data[features])\r\n",
        "X_test = pd.get_dummies(test_data[features])\r\n",
        "\r\n",
        "# To scale X and X_test homogeneously, we concat them in a single dataframe, X2.\r\n",
        "X2 = pd.concat([X, X_test])\r\n",
        "\r\n",
        "# Show which columns have unknown values\r\n",
        "print(X2.isna().sum())\r\n",
        "\r\n",
        "# We have NaN values in Age and Fare. We substitute them by the average\r\n",
        "X2[\"Age\"] = X2.Age.fillna(X2.Age.mean())\r\n",
        "X2[\"Fare\"] = X2.Fare.fillna(X2.Fare.mean())\r\n",
        "\r\n",
        "print(X2.head())\r\n",
        "\r\n",
        "scaler = StandardScaler()\r\n",
        "X2 = pd.DataFrame(scaler.fit_transform(X2), columns=X2.columns)\r\n",
        "#print(X2.head())\r\n",
        "\r\n",
        "print(X.shape[0])\r\n",
        "\r\n",
        "X = X2.iloc[:X.shape[0], :]\r\n",
        "X_test = X2.iloc[X.shape[0]:, :]\r\n",
        "#print(X.head())\r\n",
        "#print(X.tail())\r\n",
        "#print(X_test.head())\r\n",
        "#print(X_test.tail())"
      ],
      "execution_count": 13,
      "outputs": [
        {
          "output_type": "stream",
          "text": [
            "Pclass          0\n",
            "Age           263\n",
            "SibSp           0\n",
            "Parch           0\n",
            "Fare            1\n",
            "Sex_female      0\n",
            "Sex_male        0\n",
            "Embarked_C      0\n",
            "Embarked_Q      0\n",
            "Embarked_S      0\n",
            "dtype: int64\n",
            "   Pclass   Age  SibSp  Parch     Fare  Sex_female  Sex_male  Embarked_C  \\\n",
            "0       3  22.0      1      0   7.2500           0         1           0   \n",
            "1       1  38.0      1      0  71.2833           1         0           1   \n",
            "2       3  26.0      0      0   7.9250           1         0           0   \n",
            "3       1  35.0      1      0  53.1000           1         0           0   \n",
            "4       3  35.0      0      0   8.0500           0         1           0   \n",
            "\n",
            "   Embarked_Q  Embarked_S  \n",
            "0           0           1  \n",
            "1           0           0  \n",
            "2           0           1  \n",
            "3           0           1  \n",
            "4           0           1  \n",
            "891\n"
          ],
          "name": "stdout"
        }
      ]
    },
    {
      "cell_type": "code",
      "metadata": {
        "colab": {
          "base_uri": "https://localhost:8080/"
        },
        "id": "aKsDtktv6AQS",
        "outputId": "390db59c-4256-483c-c71d-6e3a893a1b13"
      },
      "source": [
        "print(X)\n",
        "print(X_test)\n",
        "print(y)"
      ],
      "execution_count": 14,
      "outputs": [
        {
          "output_type": "stream",
          "text": [
            "       Pclass       Age     SibSp     Parch      Fare  Sex_female  Sex_male  \\\n",
            "0    0.841916 -0.611972  0.481288 -0.445000 -0.503595   -0.743497  0.743497   \n",
            "1   -1.546098  0.630431  0.481288 -0.445000  0.734503    1.344995 -1.344995   \n",
            "2    0.841916 -0.301371 -0.479087 -0.445000 -0.490544    1.344995 -1.344995   \n",
            "3   -1.546098  0.397481  0.481288 -0.445000  0.382925    1.344995 -1.344995   \n",
            "4    0.841916  0.397481 -0.479087 -0.445000 -0.488127   -0.743497  0.743497   \n",
            "..        ...       ...       ...       ...       ...         ...       ...   \n",
            "886 -0.352091 -0.223721 -0.479087 -0.445000 -0.392417   -0.743497  0.743497   \n",
            "887 -1.546098 -0.844922 -0.479087 -0.445000 -0.063719    1.344995 -1.344995   \n",
            "888  0.841916  0.000000  0.481288  1.866526 -0.190364    1.344995 -1.344995   \n",
            "889 -1.546098 -0.301371 -0.479087 -0.445000 -0.063719   -0.743497  0.743497   \n",
            "890  0.841916  0.164530 -0.479087 -0.445000 -0.493927   -0.743497  0.743497   \n",
            "\n",
            "     Embarked_C  Embarked_Q  Embarked_S  \n",
            "0      -0.50977   -0.322040    0.657394  \n",
            "1       1.96167   -0.322040   -1.521159  \n",
            "2      -0.50977   -0.322040    0.657394  \n",
            "3      -0.50977   -0.322040    0.657394  \n",
            "4      -0.50977   -0.322040    0.657394  \n",
            "..          ...         ...         ...  \n",
            "886    -0.50977   -0.322040    0.657394  \n",
            "887    -0.50977   -0.322040    0.657394  \n",
            "888    -0.50977   -0.322040    0.657394  \n",
            "889     1.96167   -0.322040   -1.521159  \n",
            "890    -0.50977    3.105202   -1.521159  \n",
            "\n",
            "[891 rows x 10 columns]\n",
            "        Pclass       Age     SibSp     Parch      Fare  Sex_female  Sex_male  \\\n",
            "891   0.841916  0.358655 -0.479087 -0.445000 -0.492396   -0.743497  0.743497   \n",
            "892   0.841916  1.329283  0.481288 -0.445000 -0.508429    1.344995 -1.344995   \n",
            "893  -0.352091  2.494035 -0.479087 -0.445000 -0.456465   -0.743497  0.743497   \n",
            "894   0.841916 -0.223721 -0.479087 -0.445000 -0.476284   -0.743497  0.743497   \n",
            "895   0.841916 -0.611972  0.481288  0.710763 -0.406194    1.344995 -1.344995   \n",
            "...        ...       ...       ...       ...       ...         ...       ...   \n",
            "1304  0.841916  0.000000 -0.479087 -0.445000 -0.488127   -0.743497  0.743497   \n",
            "1305 -1.546098  0.708081 -0.479087 -0.445000  1.461829    1.344995 -1.344995   \n",
            "1306  0.841916  0.669256 -0.479087 -0.445000 -0.503595   -0.743497  0.743497   \n",
            "1307  0.841916  0.000000 -0.479087 -0.445000 -0.488127   -0.743497  0.743497   \n",
            "1308  0.841916  0.000000  0.481288  0.710763 -0.211473   -0.743497  0.743497   \n",
            "\n",
            "      Embarked_C  Embarked_Q  Embarked_S  \n",
            "891     -0.50977    3.105202   -1.521159  \n",
            "892     -0.50977   -0.322040    0.657394  \n",
            "893     -0.50977    3.105202   -1.521159  \n",
            "894     -0.50977   -0.322040    0.657394  \n",
            "895     -0.50977   -0.322040    0.657394  \n",
            "...          ...         ...         ...  \n",
            "1304    -0.50977   -0.322040    0.657394  \n",
            "1305     1.96167   -0.322040   -1.521159  \n",
            "1306    -0.50977   -0.322040    0.657394  \n",
            "1307    -0.50977   -0.322040    0.657394  \n",
            "1308     1.96167   -0.322040   -1.521159  \n",
            "\n",
            "[418 rows x 10 columns]\n",
            "0      0\n",
            "1      1\n",
            "2      1\n",
            "3      1\n",
            "4      0\n",
            "      ..\n",
            "886    0\n",
            "887    1\n",
            "888    0\n",
            "889    1\n",
            "890    0\n",
            "Name: Survived, Length: 891, dtype: int64\n"
          ],
          "name": "stdout"
        }
      ]
    },
    {
      "cell_type": "markdown",
      "metadata": {
        "id": "Pt0IUARR_d_K"
      },
      "source": [
        "To evaluate how well the trained model performs on unseen data, we further split the dataset into separate training and test datasets."
      ]
    },
    {
      "cell_type": "code",
      "metadata": {
        "colab": {
          "base_uri": "https://localhost:8080/"
        },
        "id": "5ojNb50a_0Kt",
        "outputId": "40ba2935-dee0-4aa7-f8a3-0a755565249c"
      },
      "source": [
        "#from sklearn.model_selection import train_test_split\n",
        "#X_train, X_test, y_train, y_test = train_test_split(X, y, test_size=0.3, \n",
        "#                                                          random_state=1, \n",
        "#                                                          stratify=y)\n",
        "\n",
        "# Reserve 100 samples for validation\n",
        "X_val = X[-val_size:]\n",
        "y_val = y[-val_size:]\n",
        "X_train = X[:-val_size]\n",
        "y_train = y[:-val_size]\n",
        "\n",
        "print(X_train)\n",
        "print(y_train)"
      ],
      "execution_count": 15,
      "outputs": [
        {
          "output_type": "stream",
          "text": [
            "       Pclass       Age     SibSp     Parch      Fare  Sex_female  Sex_male  \\\n",
            "0    0.841916 -0.611972  0.481288 -0.445000 -0.503595   -0.743497  0.743497   \n",
            "1   -1.546098  0.630431  0.481288 -0.445000  0.734503    1.344995 -1.344995   \n",
            "2    0.841916 -0.301371 -0.479087 -0.445000 -0.490544    1.344995 -1.344995   \n",
            "3   -1.546098  0.397481  0.481288 -0.445000  0.382925    1.344995 -1.344995   \n",
            "4    0.841916  0.397481 -0.479087 -0.445000 -0.488127   -0.743497  0.743497   \n",
            "..        ...       ...       ...       ...       ...         ...       ...   \n",
            "786  0.841916 -0.922572 -0.479087 -0.445000 -0.498842    1.344995 -1.344995   \n",
            "787  0.841916 -1.699074  3.362411  0.710763 -0.080637   -0.743497  0.743497   \n",
            "788  0.841916 -2.242625  0.481288  1.866526 -0.245953   -0.743497  0.743497   \n",
            "789 -1.546098  1.251632 -0.479087 -0.445000  0.887574   -0.743497  0.743497   \n",
            "790  0.841916  0.000000 -0.479087 -0.445000 -0.493927   -0.743497  0.743497   \n",
            "\n",
            "     Embarked_C  Embarked_Q  Embarked_S  \n",
            "0      -0.50977   -0.322040    0.657394  \n",
            "1       1.96167   -0.322040   -1.521159  \n",
            "2      -0.50977   -0.322040    0.657394  \n",
            "3      -0.50977   -0.322040    0.657394  \n",
            "4      -0.50977   -0.322040    0.657394  \n",
            "..          ...         ...         ...  \n",
            "786    -0.50977   -0.322040    0.657394  \n",
            "787    -0.50977    3.105202   -1.521159  \n",
            "788    -0.50977   -0.322040    0.657394  \n",
            "789     1.96167   -0.322040   -1.521159  \n",
            "790    -0.50977    3.105202   -1.521159  \n",
            "\n",
            "[791 rows x 10 columns]\n",
            "0      0\n",
            "1      1\n",
            "2      1\n",
            "3      1\n",
            "4      0\n",
            "      ..\n",
            "786    1\n",
            "787    0\n",
            "788    1\n",
            "789    0\n",
            "790    0\n",
            "Name: Survived, Length: 791, dtype: int64\n"
          ],
          "name": "stdout"
        }
      ]
    },
    {
      "cell_type": "code",
      "metadata": {
        "colab": {
          "base_uri": "https://localhost:8080/",
          "height": 347
        },
        "id": "UWYlV7oy6AQT",
        "outputId": "32f873ba-d142-46f4-d103-1878f1ec3d18"
      },
      "source": [
        "# determine the number of input features\n",
        "n_features = X_train.shape[1]\n",
        "print(\"Number of features: \", n_features)\n",
        "\n",
        "# define model\n",
        "model = Sequential()\n",
        "model.add(Dense(2*n_features, activation='relu', kernel_initializer='he_normal', input_shape=(n_features,)))\n",
        "model.add(Dense(2*n_features, activation='relu', kernel_initializer='he_normal'))\n",
        "model.add(Dense(1, activation='sigmoid'))\n",
        "\n",
        "# Configure the Adam optimization\n",
        "Adam = tf.keras.optimizers.Adam(\n",
        "    learning_rate=0.001, beta_1=0.9, beta_2=0.999, epsilon=1e-07, amsgrad=False,\n",
        "    name='Adam'\n",
        ")\n",
        "# compile the model\n",
        "model.compile(optimizer=Adam, loss='binary_crossentropy', metrics=['accuracy'])\n",
        "\n",
        "# fit the model\n",
        "history = model.fit(X_train, \n",
        "                    y_train, \n",
        "                    epochs=num_epochs, \n",
        "                    batch_size=32, \n",
        "                    verbose=0, \n",
        "                    # We pass some validation for\n",
        "                    # monitoring validation loss and metrics\n",
        "                    # at the end of each epoch\n",
        "                    validation_data=(X_val, y_val))\n",
        "\n",
        "# We defenitely have a problem of variance or overfitting. We should regularize.\n",
        "pyplot.title('Learning Curves')\n",
        "pyplot.xlabel('Epoch')\n",
        "pyplot.ylabel('Cross Entropy')\n",
        "pyplot.plot(history.history['loss'], label='train')\n",
        "pyplot.plot(history.history['val_loss'], label='val')\n",
        "pyplot.legend()\n",
        "pyplot.show()\n",
        "\n",
        "# PRG: This seems to refer to accuracy ON THE LAST BATCH of validation data \n",
        "# (i.e. only on one batch of examples of size batch_size=32).\n",
        "# (See https://stackoverflow.com/questions/56447493/keras-model-fit-with-validation-data-which-batch-size-is-used-to-evaluate-the)\n",
        "print(\"Accuracy on validation data:\")\n",
        "print(history.history['accuracy'][num_epochs-1])\n",
        "\n",
        "# Next steps\n",
        "# 1. Regularization\n",
        "# 2. Add Cabin, Ticket or even Name attributes to the dataset\n"
      ],
      "execution_count": 16,
      "outputs": [
        {
          "output_type": "stream",
          "text": [
            "Number of features:  10\n"
          ],
          "name": "stdout"
        },
        {
          "output_type": "display_data",
          "data": {
            "image/png": "[encoded data removed]",
            "text/plain": [
              "<Figure size 432x288 with 1 Axes>"
            ]
          },
          "metadata": {
            "tags": [],
            "needs_background": "light"
          }
        },
        {
          "output_type": "stream",
          "text": [
            "Accuracy on validation data:\n",
            "0.8798988461494446\n"
          ],
          "name": "stdout"
        }
      ]
    },
    {
      "cell_type": "markdown",
      "metadata": {
        "id": "4mo28C4ieldE"
      },
      "source": [
        "Evaluate the model on the ENTIRE validation set"
      ]
    },
    {
      "cell_type": "code",
      "metadata": {
        "colab": {
          "base_uri": "https://localhost:8080/"
        },
        "id": "LnxfQjZHepuC",
        "outputId": "af37b992-f5ba-4592-c616-8f1032330eeb"
      },
      "source": [
        "results = model.evaluate(X_val, y_val, batch_size=val_size)\n",
        "#print(\"test loss, test acc:\", results)"
      ],
      "execution_count": 17,
      "outputs": [
        {
          "output_type": "stream",
          "text": [
            "1/1 [==============================] - 0s 102ms/step - loss: 0.4436 - accuracy: 0.8500\n"
          ],
          "name": "stdout"
        }
      ]
    },
    {
      "cell_type": "markdown",
      "metadata": {
        "id": "zcmLIVRTJQbA"
      },
      "source": [
        "Evaluate the model on the test data"
      ]
    },
    {
      "cell_type": "code",
      "metadata": {
        "id": "24i-Awl0L4Ca",
        "colab": {
          "base_uri": "https://localhost:8080/"
        },
        "outputId": "3bfbbd5a-db1e-4cb7-c6ee-d1987084e724"
      },
      "source": [
        "# Generate predictions for the passengers in test.csv\r\n",
        "predictions = np.rint(model.predict(X_test).flatten()).astype(int)\r\n",
        "\r\n",
        "#print(predictions)\r\n",
        "#print(test_data.PassengerId)\r\n",
        "\r\n",
        "# Save these new predictions in a CSV file my_submission.csv.\r\n",
        "output = pd.DataFrame({'PassengerId': test_data.PassengerId, 'Survived': predictions})\r\n",
        "output.to_csv('my_submission.csv', index=False)\r\n",
        "\r\n",
        "print(\"Your submission was successfully saved!\")"
      ],
      "execution_count": 18,
      "outputs": [
        {
          "output_type": "stream",
          "text": [
            "Your submission was successfully saved!\n"
          ],
          "name": "stdout"
        }
      ]
    }
  ]
}