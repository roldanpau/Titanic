{
  "nbformat": 4,
  "nbformat_minor": 0,
  "metadata": {
    "kernelspec": {
      "display_name": "Python 3",
      "language": "python",
      "name": "python3"
    },
    "language_info": {
      "codemirror_mode": {
        "name": "ipython",
        "version": 3
      },
      "file_extension": ".py",
      "mimetype": "text/x-python",
      "name": "python",
      "nbconvert_exporter": "python",
      "pygments_lexer": "ipython3",
      "version": "3.8.2"
    },
    "colab": {
      "name": "titanic.ipynb",
      "provenance": [],
      "collapsed_sections": []
    }
  },
  "cells": [
    {
      "cell_type": "markdown",
      "metadata": {
        "id": "3esTiQfS6AP_"
      },
      "source": [
        "Tensor flow development"
      ]
    },
    {
      "cell_type": "code",
      "metadata": {
        "id": "R6GJKvqH6AQO"
      },
      "source": [
        "# mlp for binary classification\n",
        "import pandas as pd\n",
        "import numpy as np\n",
        "from pandas import read_csv\n",
        "from sklearn.model_selection import train_test_split\n",
        "from sklearn.preprocessing import LabelEncoder\n",
        "from sklearn.ensemble import RandomForestClassifier\n",
        "from sklearn.preprocessing import MinMaxScaler, StandardScaler\n",
        "from matplotlib import pyplot\n",
        "\n",
        "pd.set_option('display.max_columns', None) # Display all columns of dataframes"
      ],
      "execution_count": null,
      "outputs": []
    },
    {
      "cell_type": "code",
      "metadata": {
        "id": "m5y71okKNRpl"
      },
      "source": [
        "# PARAMETERS\n",
        "num_epochs = 500"
      ],
      "execution_count": null,
      "outputs": []
    },
    {
      "cell_type": "code",
      "metadata": {
        "colab": {
          "base_uri": "https://localhost:8080/",
          "height": 380
        },
        "id": "5ufX4Mjf2Qt4",
        "outputId": "922f0258-57c4-4956-bcc2-da4d011212a3"
      },
      "source": [
        "# Download dataset\r\n",
        "TITANIC_TRAIN = \"https://raw.githubusercontent.com/borjagomez/TF-Titanic/master/data/train.csv\"\r\n",
        "TITANIC_TEST = \"https://raw.githubusercontent.com/borjagomez/TF-Titanic/master/data/test.csv\"\r\n",
        "\r\n",
        "train_data = pd.read_csv(TITANIC_TRAIN)\r\n",
        "test_data = pd.read_csv(TITANIC_TEST)\r\n",
        "\r\n",
        "train_data.head()"
      ],
      "execution_count": null,
      "outputs": [
        {
          "output_type": "execute_result",
          "data": {
            "text/html": [
              "<div>\n",
              "<style scoped>\n",
              "    .dataframe tbody tr th:only-of-type {\n",
              "        vertical-align: middle;\n",
              "    }\n",
              "\n",
              "    .dataframe tbody tr th {\n",
              "        vertical-align: top;\n",
              "    }\n",
              "\n",
              "    .dataframe thead th {\n",
              "        text-align: right;\n",
              "    }\n",
              "</style>\n",
              "<table border=\"1\" class=\"dataframe\">\n",
              "  <thead>\n",
              "    <tr style=\"text-align: right;\">\n",
              "      <th></th>\n",
              "      <th>PassengerId</th>\n",
              "      <th>Survived</th>\n",
              "      <th>Pclass</th>\n",
              "      <th>Name</th>\n",
              "      <th>Sex</th>\n",
              "      <th>Age</th>\n",
              "      <th>SibSp</th>\n",
              "      <th>Parch</th>\n",
              "      <th>Ticket</th>\n",
              "      <th>Fare</th>\n",
              "      <th>Cabin</th>\n",
              "      <th>Embarked</th>\n",
              "    </tr>\n",
              "  </thead>\n",
              "  <tbody>\n",
              "    <tr>\n",
              "      <th>0</th>\n",
              "      <td>1</td>\n",
              "      <td>0</td>\n",
              "      <td>3</td>\n",
              "      <td>Braund, Mr. Owen Harris</td>\n",
              "      <td>male</td>\n",
              "      <td>22.0</td>\n",
              "      <td>1</td>\n",
              "      <td>0</td>\n",
              "      <td>A/5 21171</td>\n",
              "      <td>7.2500</td>\n",
              "      <td>NaN</td>\n",
              "      <td>S</td>\n",
              "    </tr>\n",
              "    <tr>\n",
              "      <th>1</th>\n",
              "      <td>2</td>\n",
              "      <td>1</td>\n",
              "      <td>1</td>\n",
              "      <td>Cumings, Mrs. John Bradley (Florence Briggs Th...</td>\n",
              "      <td>female</td>\n",
              "      <td>38.0</td>\n",
              "      <td>1</td>\n",
              "      <td>0</td>\n",
              "      <td>PC 17599</td>\n",
              "      <td>71.2833</td>\n",
              "      <td>C85</td>\n",
              "      <td>C</td>\n",
              "    </tr>\n",
              "    <tr>\n",
              "      <th>2</th>\n",
              "      <td>3</td>\n",
              "      <td>1</td>\n",
              "      <td>3</td>\n",
              "      <td>Heikkinen, Miss. Laina</td>\n",
              "      <td>female</td>\n",
              "      <td>26.0</td>\n",
              "      <td>0</td>\n",
              "      <td>0</td>\n",
              "      <td>STON/O2. 3101282</td>\n",
              "      <td>7.9250</td>\n",
              "      <td>NaN</td>\n",
              "      <td>S</td>\n",
              "    </tr>\n",
              "    <tr>\n",
              "      <th>3</th>\n",
              "      <td>4</td>\n",
              "      <td>1</td>\n",
              "      <td>1</td>\n",
              "      <td>Futrelle, Mrs. Jacques Heath (Lily May Peel)</td>\n",
              "      <td>female</td>\n",
              "      <td>35.0</td>\n",
              "      <td>1</td>\n",
              "      <td>0</td>\n",
              "      <td>113803</td>\n",
              "      <td>53.1000</td>\n",
              "      <td>C123</td>\n",
              "      <td>S</td>\n",
              "    </tr>\n",
              "    <tr>\n",
              "      <th>4</th>\n",
              "      <td>5</td>\n",
              "      <td>0</td>\n",
              "      <td>3</td>\n",
              "      <td>Allen, Mr. William Henry</td>\n",
              "      <td>male</td>\n",
              "      <td>35.0</td>\n",
              "      <td>0</td>\n",
              "      <td>0</td>\n",
              "      <td>373450</td>\n",
              "      <td>8.0500</td>\n",
              "      <td>NaN</td>\n",
              "      <td>S</td>\n",
              "    </tr>\n",
              "  </tbody>\n",
              "</table>\n",
              "</div>"
            ],
            "text/plain": [
              "   PassengerId  Survived  Pclass  \\\n",
              "0            1         0       3   \n",
              "1            2         1       1   \n",
              "2            3         1       3   \n",
              "3            4         1       1   \n",
              "4            5         0       3   \n",
              "\n",
              "                                                Name     Sex   Age  SibSp  \\\n",
              "0                            Braund, Mr. Owen Harris    male  22.0      1   \n",
              "1  Cumings, Mrs. John Bradley (Florence Briggs Th...  female  38.0      1   \n",
              "2                             Heikkinen, Miss. Laina  female  26.0      0   \n",
              "3       Futrelle, Mrs. Jacques Heath (Lily May Peel)  female  35.0      1   \n",
              "4                           Allen, Mr. William Henry    male  35.0      0   \n",
              "\n",
              "   Parch            Ticket     Fare Cabin Embarked  \n",
              "0      0         A/5 21171   7.2500   NaN        S  \n",
              "1      0          PC 17599  71.2833   C85        C  \n",
              "2      0  STON/O2. 3101282   7.9250   NaN        S  \n",
              "3      0            113803  53.1000  C123        S  \n",
              "4      0            373450   8.0500   NaN        S  "
            ]
          },
          "metadata": {
            "tags": []
          },
          "execution_count": 142
        }
      ]
    },
    {
      "cell_type": "code",
      "metadata": {
        "colab": {
          "base_uri": "https://localhost:8080/"
        },
        "id": "-9_c2M783R2t",
        "outputId": "4e39313a-c023-4da6-898e-8e05efafad47"
      },
      "source": [
        "y = train_data[\"Survived\"]\r\n",
        "\r\n",
        "# Use only these features, converting categorical variables (such as \"Sex\" and \r\n",
        "# \"Embarked\") into indicator (or \"dummy\") variables\r\n",
        "features = [\"Pclass\", \"Sex\", \"Age\", \"SibSp\", \"Parch\", \"Fare\", \"Embarked\"]\r\n",
        "X = pd.get_dummies(train_data[features])\r\n",
        "X_test = pd.get_dummies(test_data[features])\r\n",
        "\r\n",
        "# To scale X and X_test homogeneously, we concat them in a single dataframe, X2.\r\n",
        "X2 = pd.concat([X, X_test])\r\n",
        "\r\n",
        "# Show which columns have unknown values\r\n",
        "print(X2.isna().sum())\r\n",
        "\r\n",
        "# We have NaN values in Age and Fare. We substitute them by the average\r\n",
        "X2[\"Age\"] = X2.Age.fillna(X2.Age.mean())\r\n",
        "X2[\"Fare\"] = X2.Fare.fillna(X2.Fare.mean())\r\n",
        "\r\n",
        "print(X2.head())\r\n",
        "\r\n",
        "scaler = StandardScaler()\r\n",
        "X2 = pd.DataFrame(scaler.fit_transform(X2), columns=X2.columns)\r\n",
        "#print(X2.head())\r\n",
        "\r\n",
        "print(X.shape[0])\r\n",
        "\r\n",
        "X = X2.iloc[:X.shape[0], :]\r\n",
        "X_test = X2.iloc[X.shape[0]:, :]\r\n",
        "#print(X.head())\r\n",
        "#print(X.tail())\r\n",
        "#print(X_test.head())\r\n",
        "#print(X_test.tail())"
      ],
      "execution_count": null,
      "outputs": [
        {
          "output_type": "stream",
          "text": [
            "Pclass          0\n",
            "Age           263\n",
            "SibSp           0\n",
            "Parch           0\n",
            "Fare            1\n",
            "Sex_female      0\n",
            "Sex_male        0\n",
            "Embarked_C      0\n",
            "Embarked_Q      0\n",
            "Embarked_S      0\n",
            "dtype: int64\n",
            "   Pclass   Age  SibSp  Parch     Fare  Sex_female  Sex_male  Embarked_C  \\\n",
            "0       3  22.0      1      0   7.2500           0         1           0   \n",
            "1       1  38.0      1      0  71.2833           1         0           1   \n",
            "2       3  26.0      0      0   7.9250           1         0           0   \n",
            "3       1  35.0      1      0  53.1000           1         0           0   \n",
            "4       3  35.0      0      0   8.0500           0         1           0   \n",
            "\n",
            "   Embarked_Q  Embarked_S  \n",
            "0           0           1  \n",
            "1           0           0  \n",
            "2           0           1  \n",
            "3           0           1  \n",
            "4           0           1  \n",
            "891\n"
          ],
          "name": "stdout"
        }
      ]
    },
    {
      "cell_type": "code",
      "metadata": {
        "colab": {
          "base_uri": "https://localhost:8080/"
        },
        "id": "aKsDtktv6AQS",
        "outputId": "c2096977-df12-46dc-f7f4-94f859ed1178"
      },
      "source": [
        "print(X)\n",
        "print(X_test)\n",
        "print(y)"
      ],
      "execution_count": null,
      "outputs": [
        {
          "output_type": "stream",
          "text": [
            "       Pclass       Age     SibSp     Parch      Fare  Sex_female  Sex_male  \\\n",
            "0    0.841916 -0.611972  0.481288 -0.445000 -0.503595   -0.743497  0.743497   \n",
            "1   -1.546098  0.630431  0.481288 -0.445000  0.734503    1.344995 -1.344995   \n",
            "2    0.841916 -0.301371 -0.479087 -0.445000 -0.490544    1.344995 -1.344995   \n",
            "3   -1.546098  0.397481  0.481288 -0.445000  0.382925    1.344995 -1.344995   \n",
            "4    0.841916  0.397481 -0.479087 -0.445000 -0.488127   -0.743497  0.743497   \n",
            "..        ...       ...       ...       ...       ...         ...       ...   \n",
            "886 -0.352091 -0.223721 -0.479087 -0.445000 -0.392417   -0.743497  0.743497   \n",
            "887 -1.546098 -0.844922 -0.479087 -0.445000 -0.063719    1.344995 -1.344995   \n",
            "888  0.841916  0.000000  0.481288  1.866526 -0.190364    1.344995 -1.344995   \n",
            "889 -1.546098 -0.301371 -0.479087 -0.445000 -0.063719   -0.743497  0.743497   \n",
            "890  0.841916  0.164530 -0.479087 -0.445000 -0.493927   -0.743497  0.743497   \n",
            "\n",
            "     Embarked_C  Embarked_Q  Embarked_S  \n",
            "0      -0.50977   -0.322040    0.657394  \n",
            "1       1.96167   -0.322040   -1.521159  \n",
            "2      -0.50977   -0.322040    0.657394  \n",
            "3      -0.50977   -0.322040    0.657394  \n",
            "4      -0.50977   -0.322040    0.657394  \n",
            "..          ...         ...         ...  \n",
            "886    -0.50977   -0.322040    0.657394  \n",
            "887    -0.50977   -0.322040    0.657394  \n",
            "888    -0.50977   -0.322040    0.657394  \n",
            "889     1.96167   -0.322040   -1.521159  \n",
            "890    -0.50977    3.105202   -1.521159  \n",
            "\n",
            "[891 rows x 10 columns]\n",
            "        Pclass       Age     SibSp     Parch      Fare  Sex_female  Sex_male  \\\n",
            "891   0.841916  0.358655 -0.479087 -0.445000 -0.492396   -0.743497  0.743497   \n",
            "892   0.841916  1.329283  0.481288 -0.445000 -0.508429    1.344995 -1.344995   \n",
            "893  -0.352091  2.494035 -0.479087 -0.445000 -0.456465   -0.743497  0.743497   \n",
            "894   0.841916 -0.223721 -0.479087 -0.445000 -0.476284   -0.743497  0.743497   \n",
            "895   0.841916 -0.611972  0.481288  0.710763 -0.406194    1.344995 -1.344995   \n",
            "...        ...       ...       ...       ...       ...         ...       ...   \n",
            "1304  0.841916  0.000000 -0.479087 -0.445000 -0.488127   -0.743497  0.743497   \n",
            "1305 -1.546098  0.708081 -0.479087 -0.445000  1.461829    1.344995 -1.344995   \n",
            "1306  0.841916  0.669256 -0.479087 -0.445000 -0.503595   -0.743497  0.743497   \n",
            "1307  0.841916  0.000000 -0.479087 -0.445000 -0.488127   -0.743497  0.743497   \n",
            "1308  0.841916  0.000000  0.481288  0.710763 -0.211473   -0.743497  0.743497   \n",
            "\n",
            "      Embarked_C  Embarked_Q  Embarked_S  \n",
            "891     -0.50977    3.105202   -1.521159  \n",
            "892     -0.50977   -0.322040    0.657394  \n",
            "893     -0.50977    3.105202   -1.521159  \n",
            "894     -0.50977   -0.322040    0.657394  \n",
            "895     -0.50977   -0.322040    0.657394  \n",
            "...          ...         ...         ...  \n",
            "1304    -0.50977   -0.322040    0.657394  \n",
            "1305     1.96167   -0.322040   -1.521159  \n",
            "1306    -0.50977   -0.322040    0.657394  \n",
            "1307    -0.50977   -0.322040    0.657394  \n",
            "1308     1.96167   -0.322040   -1.521159  \n",
            "\n",
            "[418 rows x 10 columns]\n",
            "0      0\n",
            "1      1\n",
            "2      1\n",
            "3      1\n",
            "4      0\n",
            "      ..\n",
            "886    0\n",
            "887    1\n",
            "888    0\n",
            "889    1\n",
            "890    0\n",
            "Name: Survived, Length: 891, dtype: int64\n"
          ],
          "name": "stdout"
        }
      ]
    },
    {
      "cell_type": "markdown",
      "metadata": {
        "id": "Pt0IUARR_d_K"
      },
      "source": [
        "To evaluate how well the trained model performs on unseen data, we further split the dataset into separate training and test datasets."
      ]
    },
    {
      "cell_type": "code",
      "metadata": {
        "colab": {
          "base_uri": "https://localhost:8080/"
        },
        "id": "5ojNb50a_0Kt",
        "outputId": "833630c8-a551-43b3-9cc2-995dbefe2d37"
      },
      "source": [
        "#from sklearn.model_selection import train_test_split\n",
        "#X_train, X_test, y_train, y_test = train_test_split(X, y, test_size=0.3, \n",
        "#                                                          random_state=1, \n",
        "#                                                          stratify=y)\n",
        "\n",
        "# Reserve 100 samples for validation\n",
        "X_val = X[-100:]\n",
        "y_val = y[-100:]\n",
        "X_train = X[:-100]\n",
        "y_train = y[:-100]\n",
        "\n",
        "print(X_train)\n",
        "print(y_train)"
      ],
      "execution_count": null,
      "outputs": [
        {
          "output_type": "stream",
          "text": [
            "       Pclass       Age     SibSp     Parch      Fare  Sex_female  Sex_male  \\\n",
            "0    0.841916 -0.611972  0.481288 -0.445000 -0.503595   -0.743497  0.743497   \n",
            "1   -1.546098  0.630431  0.481288 -0.445000  0.734503    1.344995 -1.344995   \n",
            "2    0.841916 -0.301371 -0.479087 -0.445000 -0.490544    1.344995 -1.344995   \n",
            "3   -1.546098  0.397481  0.481288 -0.445000  0.382925    1.344995 -1.344995   \n",
            "4    0.841916  0.397481 -0.479087 -0.445000 -0.488127   -0.743497  0.743497   \n",
            "..        ...       ...       ...       ...       ...         ...       ...   \n",
            "786  0.841916 -0.922572 -0.479087 -0.445000 -0.498842    1.344995 -1.344995   \n",
            "787  0.841916 -1.699074  3.362411  0.710763 -0.080637   -0.743497  0.743497   \n",
            "788  0.841916 -2.242625  0.481288  1.866526 -0.245953   -0.743497  0.743497   \n",
            "789 -1.546098  1.251632 -0.479087 -0.445000  0.887574   -0.743497  0.743497   \n",
            "790  0.841916  0.000000 -0.479087 -0.445000 -0.493927   -0.743497  0.743497   \n",
            "\n",
            "     Embarked_C  Embarked_Q  Embarked_S  \n",
            "0      -0.50977   -0.322040    0.657394  \n",
            "1       1.96167   -0.322040   -1.521159  \n",
            "2      -0.50977   -0.322040    0.657394  \n",
            "3      -0.50977   -0.322040    0.657394  \n",
            "4      -0.50977   -0.322040    0.657394  \n",
            "..          ...         ...         ...  \n",
            "786    -0.50977   -0.322040    0.657394  \n",
            "787    -0.50977    3.105202   -1.521159  \n",
            "788    -0.50977   -0.322040    0.657394  \n",
            "789     1.96167   -0.322040   -1.521159  \n",
            "790    -0.50977    3.105202   -1.521159  \n",
            "\n",
            "[791 rows x 10 columns]\n",
            "0      0\n",
            "1      1\n",
            "2      1\n",
            "3      1\n",
            "4      0\n",
            "      ..\n",
            "786    1\n",
            "787    0\n",
            "788    1\n",
            "789    0\n",
            "790    0\n",
            "Name: Survived, Length: 791, dtype: int64\n"
          ],
          "name": "stdout"
        }
      ]
    },
    {
      "cell_type": "code",
      "metadata": {
        "colab": {
          "base_uri": "https://localhost:8080/"
        },
        "id": "UWYlV7oy6AQT",
        "outputId": "b3a77a76-81cf-4b2a-db51-5d63ee3333d9"
      },
      "source": [
        "# determine the number of input features\n",
        "n_features = X_train.shape[1]\n",
        "print(\"Number of features: \", n_features)\n",
        "\n",
        "# define model\n",
        "model = RandomForestClassifier(n_estimators=100, max_depth=5, random_state=1)\n",
        "\n",
        "# fit the model\n",
        "model.fit(X_train, y_train)\n",
        "\n",
        "# Next steps\n",
        "# 1. Regularization\n",
        "# 2. Add Cabin, Ticket or even Name attributes to the dataset\n"
      ],
      "execution_count": null,
      "outputs": [
        {
          "output_type": "stream",
          "text": [
            "Number of features:  10\n"
          ],
          "name": "stdout"
        },
        {
          "output_type": "execute_result",
          "data": {
            "text/plain": [
              "RandomForestClassifier(bootstrap=True, ccp_alpha=0.0, class_weight=None,\n",
              "                       criterion='gini', max_depth=5, max_features='auto',\n",
              "                       max_leaf_nodes=None, max_samples=None,\n",
              "                       min_impurity_decrease=0.0, min_impurity_split=None,\n",
              "                       min_samples_leaf=1, min_samples_split=2,\n",
              "                       min_weight_fraction_leaf=0.0, n_estimators=100,\n",
              "                       n_jobs=None, oob_score=False, random_state=1, verbose=0,\n",
              "                       warm_start=False)"
            ]
          },
          "metadata": {
            "tags": []
          },
          "execution_count": 146
        }
      ]
    },
    {
      "cell_type": "markdown",
      "metadata": {
        "id": "zcmLIVRTJQbA"
      },
      "source": [
        "Evaluate the model on the test data"
      ]
    },
    {
      "cell_type": "code",
      "metadata": {
        "id": "TvatS3YR6AQU"
      },
      "source": [
        "#print(\"Evaluate on test data\")\n",
        "#results = model.evaluate(X_test, y_test, batch_size=64)\n",
        "#print(\"test loss, test acc:\", results)"
      ],
      "execution_count": null,
      "outputs": []
    },
    {
      "cell_type": "code",
      "metadata": {
        "id": "24i-Awl0L4Ca",
        "colab": {
          "base_uri": "https://localhost:8080/"
        },
        "outputId": "f4ade1c7-b117-4500-c2f5-3884325a5d5b"
      },
      "source": [
        "# Generate predictions for the passengers in test.csv\r\n",
        "predictions = np.rint(model.predict(X_test).flatten()).astype(int)\r\n",
        "\r\n",
        "print(predictions)\r\n",
        "#print(test_data.PassengerId)\r\n",
        "\r\n",
        "# Save these new predictions in a CSV file my_submission.csv.\r\n",
        "output = pd.DataFrame({'PassengerId': test_data.PassengerId, 'Survived': predictions})\r\n",
        "output.to_csv('my_submission.csv', index=False)\r\n",
        "\r\n",
        "print(\"Your submission was successfully saved!\")"
      ],
      "execution_count": null,
      "outputs": [
        {
          "output_type": "stream",
          "text": [
            "[0 0 0 0 0 0 1 0 1 0 0 0 1 0 1 1 0 0 0 1 0 0 1 0 1 0 1 0 0 0 0 0 1 0 0 0 0\n",
            " 0 0 0 0 0 0 1 1 0 0 0 1 1 0 0 1 1 0 0 0 0 0 1 0 0 0 1 0 1 1 0 0 1 1 0 0 0\n",
            " 1 0 0 1 0 1 1 0 0 0 0 0 1 0 1 1 1 0 1 0 0 0 1 0 1 0 1 0 0 0 1 0 0 0 0 0 0\n",
            " 1 1 1 1 0 0 1 0 1 1 0 1 0 0 1 0 1 0 0 0 0 0 0 0 0 0 0 0 0 0 1 0 0 0 0 0 0\n",
            " 0 0 1 0 0 0 0 0 1 1 0 1 1 1 1 0 0 1 0 0 1 0 0 0 0 0 0 1 1 0 1 1 0 0 1 0 1\n",
            " 0 1 0 0 0 0 0 0 0 0 0 1 1 0 0 1 1 0 1 0 0 1 0 1 0 0 0 0 1 0 0 1 0 1 0 1 0\n",
            " 1 0 1 1 0 1 0 0 0 1 0 0 0 0 0 0 1 1 1 1 0 0 0 0 1 0 1 1 1 0 0 0 0 0 0 0 1\n",
            " 0 0 0 1 1 0 0 0 0 0 0 0 0 1 1 0 1 0 0 0 0 0 1 1 1 1 0 0 0 0 0 0 1 0 0 0 0\n",
            " 1 0 0 0 0 0 0 0 1 1 0 1 0 0 0 0 0 1 1 1 0 0 0 0 0 0 0 0 1 0 1 0 0 0 1 0 0\n",
            " 1 0 0 0 0 0 0 0 0 0 1 0 1 0 1 0 1 1 0 0 0 1 0 1 0 0 1 0 1 1 0 1 0 0 0 1 0\n",
            " 0 1 0 0 1 1 0 0 0 0 0 0 1 1 0 1 0 0 0 0 0 1 0 0 0 1 0 1 0 0 1 0 1 0 0 0 0\n",
            " 0 1 1 1 1 1 0 1 0 0 0]\n",
            "Your submission was successfully saved!\n"
          ],
          "name": "stdout"
        }
      ]
    }
  ]
}